{
 "cells": [
  {
   "cell_type": "code",
   "execution_count": 1,
   "metadata": {
    "execution": {
     "iopub.execute_input": "2025-10-02T14:20:46.309985Z",
     "iopub.status.busy": "2025-10-02T14:20:46.309657Z",
     "iopub.status.idle": "2025-10-02T14:20:50.628629Z",
     "shell.execute_reply": "2025-10-02T14:20:50.627975Z",
     "shell.execute_reply.started": "2025-10-02T14:20:46.309914Z"
    },
    "trusted": true
   },
   "outputs": [],
   "source": [
    "import pandas as pd\n",
    "import numpy as np\n",
    "import seaborn as sns\n",
    "import matplotlib.pyplot as plt\n",
    "from sklearn.metrics import r2_score\n",
    "import os\n",
    "import glob\n",
    "from tqdm import tqdm\n",
    "from joblib import Parallel, delayed\n",
    "import gc\n",
    "\n",
    "from sklearn.model_selection import train_test_split, KFold\n",
    "\n",
    "from lightgbm import LGBMRegressor\n",
    "from xgboost import XGBRegressor"
   ]
  },
  {
   "cell_type": "code",
   "execution_count": 3,
   "metadata": {
    "execution": {
     "iopub.execute_input": "2025-10-02T14:20:50.629958Z",
     "iopub.status.busy": "2025-10-02T14:20:50.629738Z",
     "iopub.status.idle": "2025-10-02T14:20:50.633304Z",
     "shell.execute_reply": "2025-10-02T14:20:50.632450Z",
     "shell.execute_reply.started": "2025-10-02T14:20:50.629937Z"
    },
    "trusted": true
   },
   "outputs": [],
   "source": [
    "class Config:\n",
    "    # data_dir = '../input/optiver-realized-volatility-prediction/'\n",
    "    data_dir = 'F:/SF2935/project/'\n",
    "    seed = 42"
   ]
  },
  {
   "cell_type": "code",
   "execution_count": 4,
   "metadata": {
    "execution": {
     "iopub.execute_input": "2025-10-02T14:20:50.634820Z",
     "iopub.status.busy": "2025-10-02T14:20:50.634602Z",
     "iopub.status.idle": "2025-10-02T14:20:50.854037Z",
     "shell.execute_reply": "2025-10-02T14:20:50.853123Z",
     "shell.execute_reply.started": "2025-10-02T14:20:50.634799Z"
    },
    "trusted": true
   },
   "outputs": [
    {
     "data": {
      "application/vnd.microsoft.datawrangler.viewer.v0+json": {
       "columns": [
        {
         "name": "index",
         "rawType": "int64",
         "type": "integer"
        },
        {
         "name": "stock_id",
         "rawType": "int64",
         "type": "integer"
        },
        {
         "name": "time_id",
         "rawType": "int64",
         "type": "integer"
        },
        {
         "name": "target",
         "rawType": "float64",
         "type": "float"
        }
       ],
       "ref": "87c479c9-1d7c-4f9e-8070-6ce6a8807150",
       "rows": [
        [
         "0",
         "0",
         "5",
         "0.004135767"
        ],
        [
         "1",
         "0",
         "11",
         "0.001444587"
        ],
        [
         "2",
         "0",
         "16",
         "0.002168189"
        ],
        [
         "3",
         "0",
         "31",
         "0.002195261"
        ],
        [
         "4",
         "0",
         "62",
         "0.001747216"
        ]
       ],
       "shape": {
        "columns": 3,
        "rows": 5
       }
      },
      "text/html": [
       "<div>\n",
       "<style scoped>\n",
       "    .dataframe tbody tr th:only-of-type {\n",
       "        vertical-align: middle;\n",
       "    }\n",
       "\n",
       "    .dataframe tbody tr th {\n",
       "        vertical-align: top;\n",
       "    }\n",
       "\n",
       "    .dataframe thead th {\n",
       "        text-align: right;\n",
       "    }\n",
       "</style>\n",
       "<table border=\"1\" class=\"dataframe\">\n",
       "  <thead>\n",
       "    <tr style=\"text-align: right;\">\n",
       "      <th></th>\n",
       "      <th>stock_id</th>\n",
       "      <th>time_id</th>\n",
       "      <th>target</th>\n",
       "    </tr>\n",
       "  </thead>\n",
       "  <tbody>\n",
       "    <tr>\n",
       "      <th>0</th>\n",
       "      <td>0</td>\n",
       "      <td>5</td>\n",
       "      <td>0.004136</td>\n",
       "    </tr>\n",
       "    <tr>\n",
       "      <th>1</th>\n",
       "      <td>0</td>\n",
       "      <td>11</td>\n",
       "      <td>0.001445</td>\n",
       "    </tr>\n",
       "    <tr>\n",
       "      <th>2</th>\n",
       "      <td>0</td>\n",
       "      <td>16</td>\n",
       "      <td>0.002168</td>\n",
       "    </tr>\n",
       "    <tr>\n",
       "      <th>3</th>\n",
       "      <td>0</td>\n",
       "      <td>31</td>\n",
       "      <td>0.002195</td>\n",
       "    </tr>\n",
       "    <tr>\n",
       "      <th>4</th>\n",
       "      <td>0</td>\n",
       "      <td>62</td>\n",
       "      <td>0.001747</td>\n",
       "    </tr>\n",
       "  </tbody>\n",
       "</table>\n",
       "</div>"
      ],
      "text/plain": [
       "   stock_id  time_id    target\n",
       "0         0        5  0.004136\n",
       "1         0       11  0.001445\n",
       "2         0       16  0.002168\n",
       "3         0       31  0.002195\n",
       "4         0       62  0.001747"
      ]
     },
     "execution_count": 4,
     "metadata": {},
     "output_type": "execute_result"
    }
   ],
   "source": [
    "train = pd.read_csv(Config.data_dir + 'train.csv')\n",
    "train.head()"
   ]
  },
  {
   "cell_type": "code",
   "execution_count": 5,
   "metadata": {
    "execution": {
     "iopub.execute_input": "2025-10-02T14:20:50.855739Z",
     "iopub.status.busy": "2025-10-02T14:20:50.855489Z",
     "iopub.status.idle": "2025-10-02T14:20:50.866148Z",
     "shell.execute_reply": "2025-10-02T14:20:50.865326Z",
     "shell.execute_reply.started": "2025-10-02T14:20:50.855717Z"
    },
    "trusted": true
   },
   "outputs": [
    {
     "data": {
      "text/plain": [
       "array([  0,   1,   2,   3,   4,   5,   6,   7,   8,   9,  10,  11,  13,\n",
       "        14,  15,  16,  17,  18,  19,  20,  21,  22,  23,  26,  27,  28,\n",
       "        29,  30,  31,  32,  33,  34,  35,  36,  37,  38,  39,  40,  41,\n",
       "        42,  43,  44,  46,  47,  48,  50,  51,  52,  53,  55,  56,  58,\n",
       "        59,  60,  61,  62,  63,  64,  66,  67,  68,  69,  70,  72,  73,\n",
       "        74,  75,  76,  77,  78,  80,  81,  82,  83,  84,  85,  86,  87,\n",
       "        88,  89,  90,  93,  94,  95,  96,  97,  98,  99, 100, 101, 102,\n",
       "       103, 104, 105, 107, 108, 109, 110, 111, 112, 113, 114, 115, 116,\n",
       "       118, 119, 120, 122, 123, 124, 125, 126], dtype=int64)"
      ]
     },
     "execution_count": 5,
     "metadata": {},
     "output_type": "execute_result"
    }
   ],
   "source": [
    "train.stock_id.unique()"
   ]
  },
  {
   "cell_type": "code",
   "execution_count": 6,
   "metadata": {
    "execution": {
     "iopub.execute_input": "2025-10-02T14:20:50.867649Z",
     "iopub.status.busy": "2025-10-02T14:20:50.867307Z",
     "iopub.status.idle": "2025-10-02T14:20:50.886125Z",
     "shell.execute_reply": "2025-10-02T14:20:50.885334Z",
     "shell.execute_reply.started": "2025-10-02T14:20:50.867607Z"
    },
    "trusted": true
   },
   "outputs": [
    {
     "data": {
      "application/vnd.microsoft.datawrangler.viewer.v0+json": {
       "columns": [
        {
         "name": "index",
         "rawType": "int64",
         "type": "integer"
        },
        {
         "name": "stock_id",
         "rawType": "int64",
         "type": "integer"
        },
        {
         "name": "time_id",
         "rawType": "int64",
         "type": "integer"
        },
        {
         "name": "row_id",
         "rawType": "object",
         "type": "string"
        }
       ],
       "ref": "e375bc12-e76b-4e23-b2fd-42354a4ccde7",
       "rows": [
        [
         "0",
         "0",
         "4",
         "0-4"
        ],
        [
         "1",
         "0",
         "32",
         "0-32"
        ],
        [
         "2",
         "0",
         "34",
         "0-34"
        ]
       ],
       "shape": {
        "columns": 3,
        "rows": 3
       }
      },
      "text/html": [
       "<div>\n",
       "<style scoped>\n",
       "    .dataframe tbody tr th:only-of-type {\n",
       "        vertical-align: middle;\n",
       "    }\n",
       "\n",
       "    .dataframe tbody tr th {\n",
       "        vertical-align: top;\n",
       "    }\n",
       "\n",
       "    .dataframe thead th {\n",
       "        text-align: right;\n",
       "    }\n",
       "</style>\n",
       "<table border=\"1\" class=\"dataframe\">\n",
       "  <thead>\n",
       "    <tr style=\"text-align: right;\">\n",
       "      <th></th>\n",
       "      <th>stock_id</th>\n",
       "      <th>time_id</th>\n",
       "      <th>row_id</th>\n",
       "    </tr>\n",
       "  </thead>\n",
       "  <tbody>\n",
       "    <tr>\n",
       "      <th>0</th>\n",
       "      <td>0</td>\n",
       "      <td>4</td>\n",
       "      <td>0-4</td>\n",
       "    </tr>\n",
       "    <tr>\n",
       "      <th>1</th>\n",
       "      <td>0</td>\n",
       "      <td>32</td>\n",
       "      <td>0-32</td>\n",
       "    </tr>\n",
       "    <tr>\n",
       "      <th>2</th>\n",
       "      <td>0</td>\n",
       "      <td>34</td>\n",
       "      <td>0-34</td>\n",
       "    </tr>\n",
       "  </tbody>\n",
       "</table>\n",
       "</div>"
      ],
      "text/plain": [
       "   stock_id  time_id row_id\n",
       "0         0        4    0-4\n",
       "1         0       32   0-32\n",
       "2         0       34   0-34"
      ]
     },
     "execution_count": 6,
     "metadata": {},
     "output_type": "execute_result"
    }
   ],
   "source": [
    "test = pd.read_csv(Config.data_dir + 'test.csv')\n",
    "test.head()"
   ]
  },
  {
   "cell_type": "code",
   "execution_count": 7,
   "metadata": {
    "execution": {
     "iopub.execute_input": "2025-10-02T14:20:50.887621Z",
     "iopub.status.busy": "2025-10-02T14:20:50.887300Z",
     "iopub.status.idle": "2025-10-02T14:20:50.920830Z",
     "shell.execute_reply": "2025-10-02T14:20:50.919948Z",
     "shell.execute_reply.started": "2025-10-02T14:20:50.887588Z"
    },
    "trusted": true
   },
   "outputs": [
    {
     "data": {
      "application/vnd.microsoft.datawrangler.viewer.v0+json": {
       "columns": [
        {
         "name": "stock_id",
         "rawType": "int64",
         "type": "integer"
        },
        {
         "name": "0",
         "rawType": "int64",
         "type": "integer"
        }
       ],
       "ref": "5104134d-550b-4bbe-b07b-4f7a97b3e82e",
       "rows": [
        [
         "0",
         "3830"
        ],
        [
         "1",
         "3830"
        ],
        [
         "2",
         "3830"
        ],
        [
         "3",
         "3830"
        ],
        [
         "4",
         "3830"
        ],
        [
         "5",
         "3830"
        ],
        [
         "6",
         "3830"
        ],
        [
         "7",
         "3830"
        ],
        [
         "8",
         "3830"
        ],
        [
         "9",
         "3830"
        ],
        [
         "10",
         "3830"
        ],
        [
         "11",
         "3830"
        ],
        [
         "13",
         "3829"
        ],
        [
         "14",
         "3830"
        ],
        [
         "15",
         "3830"
        ],
        [
         "16",
         "3830"
        ],
        [
         "17",
         "3830"
        ],
        [
         "18",
         "3830"
        ],
        [
         "19",
         "3830"
        ],
        [
         "20",
         "3830"
        ],
        [
         "21",
         "3830"
        ],
        [
         "22",
         "3830"
        ],
        [
         "23",
         "3830"
        ],
        [
         "26",
         "3830"
        ],
        [
         "27",
         "3830"
        ],
        [
         "28",
         "3830"
        ],
        [
         "29",
         "3830"
        ],
        [
         "30",
         "3830"
        ],
        [
         "31",
         "3830"
        ],
        [
         "32",
         "3830"
        ],
        [
         "33",
         "3830"
        ],
        [
         "34",
         "3830"
        ],
        [
         "35",
         "3830"
        ],
        [
         "36",
         "3830"
        ],
        [
         "37",
         "3830"
        ],
        [
         "38",
         "3815"
        ],
        [
         "39",
         "3830"
        ],
        [
         "40",
         "3830"
        ],
        [
         "41",
         "3830"
        ],
        [
         "42",
         "3830"
        ],
        [
         "43",
         "3830"
        ],
        [
         "44",
         "3830"
        ],
        [
         "46",
         "3830"
        ],
        [
         "47",
         "3830"
        ],
        [
         "48",
         "3830"
        ],
        [
         "50",
         "3830"
        ],
        [
         "51",
         "3830"
        ],
        [
         "52",
         "3830"
        ],
        [
         "53",
         "3830"
        ],
        [
         "55",
         "3830"
        ]
       ],
       "shape": {
        "columns": 1,
        "rows": 112
       }
      },
      "text/plain": [
       "stock_id\n",
       "0      3830\n",
       "1      3830\n",
       "2      3830\n",
       "3      3830\n",
       "4      3830\n",
       "       ... \n",
       "122    3830\n",
       "123    3830\n",
       "124    3830\n",
       "125    3830\n",
       "126    3830\n",
       "Length: 112, dtype: int64"
      ]
     },
     "metadata": {},
     "output_type": "display_data"
    },
    {
     "name": "stdout",
     "output_type": "stream",
     "text": [
      "\n",
      "Unique size values\n"
     ]
    },
    {
     "data": {
      "text/plain": [
       "array([3830, 3829, 3815, 3820], dtype=int64)"
      ]
     },
     "metadata": {},
     "output_type": "display_data"
    }
   ],
   "source": [
    "display(train.groupby('stock_id').size())\n",
    "\n",
    "print(\"\\nUnique size values\")\n",
    "display(train.groupby('stock_id').size().unique())"
   ]
  },
  {
   "cell_type": "code",
   "execution_count": 11,
   "metadata": {
    "execution": {
     "iopub.execute_input": "2025-10-02T14:20:50.922160Z",
     "iopub.status.busy": "2025-10-02T14:20:50.921893Z",
     "iopub.status.idle": "2025-10-02T14:20:50.927184Z",
     "shell.execute_reply": "2025-10-02T14:20:50.926316Z",
     "shell.execute_reply.started": "2025-10-02T14:20:50.922134Z"
    },
    "trusted": true
   },
   "outputs": [],
   "source": [
    "def get_trade_and_book_by_stock_and_time_id(stock_id, time_id=None, dataType = 'train'):\n",
    "    book_example = pd.read_parquet(f'{Config.data_dir}book_{dataType}.parquet/stock_id={stock_id}')\n",
    "    trade_example =  pd.read_parquet(f'{Config.data_dir}trade_{dataType}.parquet/stock_id={stock_id}')\n",
    "    if time_id:\n",
    "        book_example = book_example[book_example['time_id']==time_id]\n",
    "        trade_example = trade_example[trade_example['time_id']==time_id]\n",
    "    book_example.loc[:,'stock_id'] = stock_id\n",
    "    trade_example.loc[:,'stock_id'] = stock_id\n",
    "    return book_example, trade_example"
   ]
  },
  {
   "cell_type": "markdown",
   "metadata": {},
   "source": [
    "#### Feature engineering"
   ]
  },
  {
   "cell_type": "markdown",
   "metadata": {},
   "source": []
  },
  {
   "cell_type": "code",
   "execution_count": 12,
   "metadata": {
    "execution": {
     "iopub.execute_input": "2025-10-02T14:20:50.930776Z",
     "iopub.status.busy": "2025-10-02T14:20:50.930372Z",
     "iopub.status.idle": "2025-10-02T14:20:50.944143Z",
     "shell.execute_reply": "2025-10-02T14:20:50.943282Z",
     "shell.execute_reply.started": "2025-10-02T14:20:50.930738Z"
    },
    "trusted": true
   },
   "outputs": [],
   "source": [
    "def log_return(list_stock_prices):\n",
    "    return np.log(list_stock_prices).diff() \n",
    "\n",
    "def realized_volatility(series_log_return):\n",
    "    return np.sqrt(np.sum(series_log_return**2))\n",
    "\n",
    "\n",
    "def rmspe(y_true, y_pred):\n",
    "    return  (np.sqrt(np.mean(np.square((y_true - y_pred) / y_true))))\n",
    "\n",
    "def calculate_wap1(df):\n",
    "    a1 = df['bid_price1'] * df['ask_size1'] + df['ask_price1'] * df['bid_size1']\n",
    "    b1 = df['bid_size1'] + df['ask_size1']\n",
    "    a2 = df['bid_price2'] * df['ask_size2'] + df['ask_price2'] * df['bid_size2']\n",
    "    b2 = df['bid_size2'] + df['ask_size2']\n",
    "    \n",
    "    x = (a1/b1 + a2/b2)/ 2\n",
    "    \n",
    "    return x\n",
    "\n",
    "\n",
    "def calculate_wap2(df):\n",
    "        \n",
    "    a1 = df['bid_price1'] * df['ask_size1'] + df['ask_price1'] * df['bid_size1']\n",
    "    a2 = df['bid_price2'] * df['ask_size2'] + df['ask_price2'] * df['bid_size2']\n",
    "    b = df['bid_size1'] + df['ask_size1'] + df['bid_size2']+ df['ask_size2']\n",
    "    \n",
    "    x = (a1 + a2)/ b\n",
    "    return x\n",
    "\n",
    "def realized_volatility_per_time_id(file_path, prediction_column_name):\n",
    "\n",
    "    stock_id = file_path.split('=')[1]\n",
    "\n",
    "    df_book = pd.read_parquet(file_path)\n",
    "    df_book['wap1'] = calculate_wap1(df_book)\n",
    "    df_book['wap2'] = calculate_wap2(df_book)\n",
    "\n",
    "    df_book['log_return1'] = df_book.groupby(['time_id'])['wap1'].apply(log_return)\n",
    "    df_book['log_return2'] = df_book.groupby(['time_id'])['wap2'].apply(log_return)\n",
    "    df_book = df_book[~df_book['log_return1'].isnull()]\n",
    "\n",
    "    df_rvps =  pd.DataFrame(df_book.groupby(['time_id'])[['log_return1', 'log_return2']].agg(realized_volatility)).reset_index()\n",
    "    df_rvps[prediction_column_name] = 0.6 * df_rvps['log_return1'] + 0.4 * df_rvps['log_return2']\n",
    "\n",
    "    df_rvps['row_id'] = df_rvps['time_id'].apply(lambda x:f'{stock_id}-{x}')\n",
    "    \n",
    "    return df_rvps[['row_id',prediction_column_name]]"
   ]
  },
  {
   "cell_type": "code",
   "execution_count": 13,
   "metadata": {
    "execution": {
     "iopub.execute_input": "2025-10-02T14:20:50.946193Z",
     "iopub.status.busy": "2025-10-02T14:20:50.945917Z",
     "iopub.status.idle": "2025-10-02T14:20:50.960525Z",
     "shell.execute_reply": "2025-10-02T14:20:50.959685Z",
     "shell.execute_reply.started": "2025-10-02T14:20:50.946169Z"
    },
    "trusted": true
   },
   "outputs": [],
   "source": [
    "def get_agg_info(df):\n",
    "    agg_df = df.groupby(['stock_id', 'time_id']).agg(mean_sec_in_bucket = ('seconds_in_bucket', 'mean'), \n",
    "                                                     mean_price = ('price', 'mean'),\n",
    "                                                     mean_size = ('size', 'mean'),\n",
    "                                                     mean_order = ('order_count', 'mean'),\n",
    "                                                     max_sec_in_bucket = ('seconds_in_bucket', 'max'), \n",
    "                                                     max_price = ('price', 'max'),\n",
    "                                                     max_size = ('size', 'max'),\n",
    "                                                     max_order = ('order_count', 'max'),\n",
    "                                                     min_sec_in_bucket = ('seconds_in_bucket', 'min'), \n",
    "                                                     min_price = ('price', 'min'),\n",
    "                                                     #min_size = ('size', 'min'),\n",
    "                                                     #min_order = ('order_count', 'min'),\n",
    "                                                     median_sec_in_bucket = ('seconds_in_bucket', 'median'), \n",
    "                                                     median_price = ('price', 'median'),\n",
    "                                                     median_size = ('size', 'median'),\n",
    "                                                     median_order = ('order_count', 'median')\n",
    "                                                    ).reset_index()\n",
    "    \n",
    "    return agg_df"
   ]
  },
  {
   "cell_type": "code",
   "execution_count": 14,
   "metadata": {
    "execution": {
     "iopub.execute_input": "2025-10-02T14:20:50.961875Z",
     "iopub.status.busy": "2025-10-02T14:20:50.961597Z",
     "iopub.status.idle": "2025-10-02T14:20:50.978920Z",
     "shell.execute_reply": "2025-10-02T14:20:50.978209Z",
     "shell.execute_reply.started": "2025-10-02T14:20:50.961851Z"
    },
    "trusted": true
   },
   "outputs": [],
   "source": [
    "def get_stock_stat(stock_id : int, dataType = 'train'):\n",
    "    \n",
    "    book_subset, trade_subset = get_trade_and_book_by_stock_and_time_id(stock_id, dataType=dataType)\n",
    "    book_subset.sort_values(by=['time_id', 'seconds_in_bucket'])\n",
    "\n",
    "    ## book data processing\n",
    "    \n",
    "    book_subset['bas'] = (book_subset[['ask_price1', 'ask_price2']].min(axis = 1)\n",
    "                                / book_subset[['bid_price1', 'bid_price2']].max(axis = 1)\n",
    "                                - 1)                               \n",
    "\n",
    "    \n",
    "    book_subset['wap1'] = calculate_wap1(book_subset)\n",
    "    book_subset['wap2'] = calculate_wap2(book_subset)\n",
    "    \n",
    "    book_subset['log_return_bid_price1'] = np.log(book_subset['bid_price1'].pct_change() + 1)\n",
    "    book_subset['log_return_ask_price1'] = np.log(book_subset['ask_price1'].pct_change() + 1)\n",
    "    # book_subset['log_return_bid_price2'] = np.log(book_subset['bid_price2'].pct_change() + 1)\n",
    "    # book_subset['log_return_ask_price2'] = np.log(book_subset['ask_price2'].pct_change() + 1)\n",
    "    book_subset['log_return_bid_size1'] = np.log(book_subset['bid_size1'].pct_change() + 1)\n",
    "    book_subset['log_return_ask_size1'] = np.log(book_subset['ask_size1'].pct_change() + 1)\n",
    "    # book_subset['log_return_bid_size2'] = np.log(book_subset['bid_size2'].pct_change() + 1)\n",
    "    # book_subset['log_return_ask_size2'] = np.log(book_subset['ask_size2'].pct_change() + 1)\n",
    "    book_subset['log_ask_1_div_bid_1'] = np.log(book_subset['ask_price1'] / book_subset['bid_price1'])\n",
    "    book_subset['log_ask_1_div_bid_1_size'] = np.log(book_subset['ask_size1'] / book_subset['bid_size1'])\n",
    "    \n",
    "\n",
    "    book_subset['log_return1'] = (book_subset.groupby(by = ['time_id'])['wap1'].\n",
    "                                  apply(log_return).\n",
    "                                  reset_index(drop = True).\n",
    "                                  fillna(0)\n",
    "                                 )\n",
    "    book_subset['log_return2'] = (book_subset.groupby(by = ['time_id'])['wap2'].\n",
    "                                  apply(log_return).\n",
    "                                  reset_index(drop = True).\n",
    "                                  fillna(0)\n",
    "                                 )\n",
    "    \n",
    "    stock_stat = pd.merge(\n",
    "        book_subset.groupby(by = ['time_id'])['log_return1'].agg(realized_volatility).reset_index(),\n",
    "        book_subset.groupby(by = ['time_id'], as_index = False)['bas'].mean(),\n",
    "        on = ['time_id'],\n",
    "        how = 'left'\n",
    "    )\n",
    "    \n",
    "    stock_stat = pd.merge(\n",
    "        stock_stat,\n",
    "        book_subset.groupby(by = ['time_id'])['log_return2'].agg(realized_volatility).reset_index(),\n",
    "        on = ['time_id'],\n",
    "        how = 'left'\n",
    "    )\n",
    "    \n",
    "    stock_stat = pd.merge(\n",
    "        stock_stat,\n",
    "        book_subset.groupby(by = ['time_id'])['log_return_bid_price1'].agg(realized_volatility).reset_index(),\n",
    "        on = ['time_id'],\n",
    "        how = 'left'\n",
    "    )\n",
    "    stock_stat = pd.merge(\n",
    "        stock_stat,\n",
    "        book_subset.groupby(by = ['time_id'])['log_return_ask_price1'].agg(realized_volatility).reset_index(),\n",
    "        on = ['time_id'],\n",
    "        how = 'left'\n",
    "    )\n",
    "    stock_stat = pd.merge(\n",
    "        stock_stat,\n",
    "        book_subset.groupby(by = ['time_id'])['log_return_bid_size1'].agg(realized_volatility).reset_index(),\n",
    "        on = ['time_id'],\n",
    "        how = 'left'\n",
    "    )\n",
    "    stock_stat = pd.merge(\n",
    "        stock_stat,\n",
    "        book_subset.groupby(by = ['time_id'])['log_return_ask_size1'].agg(realized_volatility).reset_index(),\n",
    "        on = ['time_id'],\n",
    "        how = 'left'\n",
    "    )\n",
    "    \n",
    "    stock_stat = pd.merge(\n",
    "        stock_stat,\n",
    "        book_subset.groupby(by = ['time_id'])['log_ask_1_div_bid_1'].agg(realized_volatility).reset_index(),\n",
    "        on = ['time_id'],\n",
    "        how = 'left'\n",
    "    )\n",
    "    stock_stat = pd.merge(\n",
    "        stock_stat,\n",
    "        book_subset.groupby(by = ['time_id'])['log_ask_1_div_bid_1_size'].agg(realized_volatility).reset_index(),\n",
    "        on = ['time_id'],\n",
    "        how = 'left'\n",
    "    )\n",
    "    \n",
    "    \n",
    "    stock_stat['stock_id'] = stock_id\n",
    "    \n",
    "    # Additional features that can be added. Referenced from https://www.kaggle.com/yus002/realized-volatility-prediction-lgbm-train/data\n",
    "    \n",
    "    # trade_subset_agg = get_agg_info(trade_subset)\n",
    "    \n",
    "    #     stock_stat = pd.merge(\n",
    "    #         stock_stat,\n",
    "    #         trade_subset_agg,\n",
    "    #         on = ['stock_id', 'time_id'],\n",
    "    #         how = 'left'\n",
    "    #     )\n",
    "    \n",
    "    ## trade data processing \n",
    "    \n",
    "    return stock_stat\n",
    "\n",
    "def get_data_set(stock_ids : list, dataType = 'train'):\n",
    "\n",
    "    stock_stat = Parallel(n_jobs=-1)(\n",
    "        delayed(get_stock_stat)(stock_id, dataType) \n",
    "        for stock_id in stock_ids\n",
    "    )\n",
    "    \n",
    "    stock_stat_df = pd.concat(stock_stat, ignore_index = True)\n",
    "\n",
    "    return stock_stat_df"
   ]
  },
  {
   "cell_type": "code",
   "execution_count": 15,
   "metadata": {
    "execution": {
     "iopub.execute_input": "2025-10-02T14:20:50.980361Z",
     "iopub.status.busy": "2025-10-02T14:20:50.980089Z",
     "iopub.status.idle": "2025-10-02T14:20:50.994769Z",
     "shell.execute_reply": "2025-10-02T14:20:50.994079Z",
     "shell.execute_reply.started": "2025-10-02T14:20:50.980336Z"
    },
    "trusted": true
   },
   "outputs": [],
   "source": [
    "def rmspe(y_true, y_pred):\n",
    "    return  (np.sqrt(np.mean(np.square((y_true - y_pred) / y_true))))"
   ]
  },
  {
   "cell_type": "code",
   "execution_count": 17,
   "metadata": {
    "execution": {
     "iopub.execute_input": "2025-10-02T14:20:51.006289Z",
     "iopub.status.busy": "2025-10-02T14:20:51.005951Z",
     "iopub.status.idle": "2025-10-02T14:20:51.595297Z",
     "shell.execute_reply": "2025-10-02T14:20:51.594413Z",
     "shell.execute_reply.started": "2025-10-02T14:20:51.006257Z"
    },
    "trusted": true
   },
   "outputs": [
    {
     "data": {
      "text/plain": [
       "(575, 11)"
      ]
     },
     "metadata": {},
     "output_type": "display_data"
    },
    {
     "data": {
      "text/plain": [
       "(94, 6)"
      ]
     },
     "metadata": {},
     "output_type": "display_data"
    }
   ],
   "source": [
    "book_stock_1, trade_stock_1 = get_trade_and_book_by_stock_and_time_id(1, 5)\n",
    "display(book_stock_1.shape)\n",
    "display(trade_stock_1.shape)"
   ]
  },
  {
   "cell_type": "code",
   "execution_count": 18,
   "metadata": {
    "execution": {
     "iopub.execute_input": "2025-10-02T14:20:51.596812Z",
     "iopub.status.busy": "2025-10-02T14:20:51.596480Z",
     "iopub.status.idle": "2025-10-02T14:20:51.608419Z",
     "shell.execute_reply": "2025-10-02T14:20:51.607607Z",
     "shell.execute_reply.started": "2025-10-02T14:20:51.596786Z"
    },
    "trusted": true
   },
   "outputs": [
    {
     "data": {
      "application/vnd.microsoft.datawrangler.viewer.v0+json": {
       "columns": [
        {
         "name": "index",
         "rawType": "int64",
         "type": "integer"
        },
        {
         "name": "time_id",
         "rawType": "int16",
         "type": "integer"
        },
        {
         "name": "seconds_in_bucket",
         "rawType": "int16",
         "type": "integer"
        },
        {
         "name": "bid_price1",
         "rawType": "float32",
         "type": "float"
        },
        {
         "name": "ask_price1",
         "rawType": "float32",
         "type": "float"
        },
        {
         "name": "bid_price2",
         "rawType": "float32",
         "type": "float"
        },
        {
         "name": "ask_price2",
         "rawType": "float32",
         "type": "float"
        },
        {
         "name": "bid_size1",
         "rawType": "int32",
         "type": "integer"
        },
        {
         "name": "ask_size1",
         "rawType": "int32",
         "type": "integer"
        },
        {
         "name": "bid_size2",
         "rawType": "int32",
         "type": "integer"
        },
        {
         "name": "ask_size2",
         "rawType": "int32",
         "type": "integer"
        },
        {
         "name": "stock_id",
         "rawType": "int64",
         "type": "integer"
        }
       ],
       "ref": "d91e3134-356f-4aea-9144-eca42efd873d",
       "rows": [
        [
         "0",
         "5",
         "0",
         "1.0007545",
         "1.0015419",
         "1.0006889",
         "1.0016074",
         "1",
         "25",
         "25",
         "100",
         "1"
        ],
        [
         "1",
         "5",
         "1",
         "1.0007545",
         "1.0016731",
         "1.0006889",
         "1.0017387",
         "26",
         "60",
         "25",
         "100",
         "1"
        ],
        [
         "2",
         "5",
         "2",
         "1.0007545",
         "1.0014106",
         "1.0006233",
         "1.0014763",
         "1",
         "25",
         "25",
         "125",
         "1"
        ],
        [
         "3",
         "5",
         "3",
         "1.0007545",
         "1.0015419",
         "1.0006889",
         "1.0016074",
         "125",
         "25",
         "126",
         "36",
         "1"
        ],
        [
         "4",
         "5",
         "4",
         "1.0007545",
         "1.0014763",
         "1.0006233",
         "1.0015419",
         "100",
         "100",
         "25",
         "25",
         "1"
        ]
       ],
       "shape": {
        "columns": 11,
        "rows": 5
       }
      },
      "text/html": [
       "<div>\n",
       "<style scoped>\n",
       "    .dataframe tbody tr th:only-of-type {\n",
       "        vertical-align: middle;\n",
       "    }\n",
       "\n",
       "    .dataframe tbody tr th {\n",
       "        vertical-align: top;\n",
       "    }\n",
       "\n",
       "    .dataframe thead th {\n",
       "        text-align: right;\n",
       "    }\n",
       "</style>\n",
       "<table border=\"1\" class=\"dataframe\">\n",
       "  <thead>\n",
       "    <tr style=\"text-align: right;\">\n",
       "      <th></th>\n",
       "      <th>time_id</th>\n",
       "      <th>seconds_in_bucket</th>\n",
       "      <th>bid_price1</th>\n",
       "      <th>ask_price1</th>\n",
       "      <th>bid_price2</th>\n",
       "      <th>ask_price2</th>\n",
       "      <th>bid_size1</th>\n",
       "      <th>ask_size1</th>\n",
       "      <th>bid_size2</th>\n",
       "      <th>ask_size2</th>\n",
       "      <th>stock_id</th>\n",
       "    </tr>\n",
       "  </thead>\n",
       "  <tbody>\n",
       "    <tr>\n",
       "      <th>0</th>\n",
       "      <td>5</td>\n",
       "      <td>0</td>\n",
       "      <td>1.000754</td>\n",
       "      <td>1.001542</td>\n",
       "      <td>1.000689</td>\n",
       "      <td>1.001607</td>\n",
       "      <td>1</td>\n",
       "      <td>25</td>\n",
       "      <td>25</td>\n",
       "      <td>100</td>\n",
       "      <td>1</td>\n",
       "    </tr>\n",
       "    <tr>\n",
       "      <th>1</th>\n",
       "      <td>5</td>\n",
       "      <td>1</td>\n",
       "      <td>1.000754</td>\n",
       "      <td>1.001673</td>\n",
       "      <td>1.000689</td>\n",
       "      <td>1.001739</td>\n",
       "      <td>26</td>\n",
       "      <td>60</td>\n",
       "      <td>25</td>\n",
       "      <td>100</td>\n",
       "      <td>1</td>\n",
       "    </tr>\n",
       "    <tr>\n",
       "      <th>2</th>\n",
       "      <td>5</td>\n",
       "      <td>2</td>\n",
       "      <td>1.000754</td>\n",
       "      <td>1.001411</td>\n",
       "      <td>1.000623</td>\n",
       "      <td>1.001476</td>\n",
       "      <td>1</td>\n",
       "      <td>25</td>\n",
       "      <td>25</td>\n",
       "      <td>125</td>\n",
       "      <td>1</td>\n",
       "    </tr>\n",
       "    <tr>\n",
       "      <th>3</th>\n",
       "      <td>5</td>\n",
       "      <td>3</td>\n",
       "      <td>1.000754</td>\n",
       "      <td>1.001542</td>\n",
       "      <td>1.000689</td>\n",
       "      <td>1.001607</td>\n",
       "      <td>125</td>\n",
       "      <td>25</td>\n",
       "      <td>126</td>\n",
       "      <td>36</td>\n",
       "      <td>1</td>\n",
       "    </tr>\n",
       "    <tr>\n",
       "      <th>4</th>\n",
       "      <td>5</td>\n",
       "      <td>4</td>\n",
       "      <td>1.000754</td>\n",
       "      <td>1.001476</td>\n",
       "      <td>1.000623</td>\n",
       "      <td>1.001542</td>\n",
       "      <td>100</td>\n",
       "      <td>100</td>\n",
       "      <td>25</td>\n",
       "      <td>25</td>\n",
       "      <td>1</td>\n",
       "    </tr>\n",
       "  </tbody>\n",
       "</table>\n",
       "</div>"
      ],
      "text/plain": [
       "   time_id  seconds_in_bucket  bid_price1  ask_price1  bid_price2  ask_price2  \\\n",
       "0        5                  0    1.000754    1.001542    1.000689    1.001607   \n",
       "1        5                  1    1.000754    1.001673    1.000689    1.001739   \n",
       "2        5                  2    1.000754    1.001411    1.000623    1.001476   \n",
       "3        5                  3    1.000754    1.001542    1.000689    1.001607   \n",
       "4        5                  4    1.000754    1.001476    1.000623    1.001542   \n",
       "\n",
       "   bid_size1  ask_size1  bid_size2  ask_size2  stock_id  \n",
       "0          1         25         25        100         1  \n",
       "1         26         60         25        100         1  \n",
       "2          1         25         25        125         1  \n",
       "3        125         25        126         36         1  \n",
       "4        100        100         25         25         1  "
      ]
     },
     "execution_count": 18,
     "metadata": {},
     "output_type": "execute_result"
    }
   ],
   "source": [
    "book_stock_1.head()"
   ]
  },
  {
   "cell_type": "code",
   "execution_count": 19,
   "metadata": {
    "execution": {
     "iopub.execute_input": "2025-10-02T14:20:51.609633Z",
     "iopub.status.busy": "2025-10-02T14:20:51.609387Z",
     "iopub.status.idle": "2025-10-02T14:20:51.622578Z",
     "shell.execute_reply": "2025-10-02T14:20:51.621729Z",
     "shell.execute_reply.started": "2025-10-02T14:20:51.609610Z"
    },
    "trusted": true
   },
   "outputs": [
    {
     "data": {
      "application/vnd.microsoft.datawrangler.viewer.v0+json": {
       "columns": [
        {
         "name": "index",
         "rawType": "int64",
         "type": "integer"
        },
        {
         "name": "time_id",
         "rawType": "int16",
         "type": "integer"
        },
        {
         "name": "seconds_in_bucket",
         "rawType": "int16",
         "type": "integer"
        },
        {
         "name": "price",
         "rawType": "float32",
         "type": "float"
        },
        {
         "name": "size",
         "rawType": "int32",
         "type": "integer"
        },
        {
         "name": "order_count",
         "rawType": "int16",
         "type": "integer"
        },
        {
         "name": "stock_id",
         "rawType": "int64",
         "type": "integer"
        }
       ],
       "ref": "1f272f72-94e1-4367-a1ff-ec1de9f50e87",
       "rows": [
        [
         "0",
         "5",
         "28",
         "1.0020802",
         "553",
         "11",
         "1"
        ],
        [
         "1",
         "5",
         "39",
         "1.0024604",
         "8",
         "3",
         "1"
        ],
        [
         "2",
         "5",
         "42",
         "1.0023081",
         "147",
         "4",
         "1"
        ],
        [
         "3",
         "5",
         "44",
         "1.0027884",
         "1",
         "1",
         "1"
        ],
        [
         "4",
         "5",
         "51",
         "1.0026572",
         "100",
         "2",
         "1"
        ]
       ],
       "shape": {
        "columns": 6,
        "rows": 5
       }
      },
      "text/html": [
       "<div>\n",
       "<style scoped>\n",
       "    .dataframe tbody tr th:only-of-type {\n",
       "        vertical-align: middle;\n",
       "    }\n",
       "\n",
       "    .dataframe tbody tr th {\n",
       "        vertical-align: top;\n",
       "    }\n",
       "\n",
       "    .dataframe thead th {\n",
       "        text-align: right;\n",
       "    }\n",
       "</style>\n",
       "<table border=\"1\" class=\"dataframe\">\n",
       "  <thead>\n",
       "    <tr style=\"text-align: right;\">\n",
       "      <th></th>\n",
       "      <th>time_id</th>\n",
       "      <th>seconds_in_bucket</th>\n",
       "      <th>price</th>\n",
       "      <th>size</th>\n",
       "      <th>order_count</th>\n",
       "      <th>stock_id</th>\n",
       "    </tr>\n",
       "  </thead>\n",
       "  <tbody>\n",
       "    <tr>\n",
       "      <th>0</th>\n",
       "      <td>5</td>\n",
       "      <td>28</td>\n",
       "      <td>1.002080</td>\n",
       "      <td>553</td>\n",
       "      <td>11</td>\n",
       "      <td>1</td>\n",
       "    </tr>\n",
       "    <tr>\n",
       "      <th>1</th>\n",
       "      <td>5</td>\n",
       "      <td>39</td>\n",
       "      <td>1.002460</td>\n",
       "      <td>8</td>\n",
       "      <td>3</td>\n",
       "      <td>1</td>\n",
       "    </tr>\n",
       "    <tr>\n",
       "      <th>2</th>\n",
       "      <td>5</td>\n",
       "      <td>42</td>\n",
       "      <td>1.002308</td>\n",
       "      <td>147</td>\n",
       "      <td>4</td>\n",
       "      <td>1</td>\n",
       "    </tr>\n",
       "    <tr>\n",
       "      <th>3</th>\n",
       "      <td>5</td>\n",
       "      <td>44</td>\n",
       "      <td>1.002788</td>\n",
       "      <td>1</td>\n",
       "      <td>1</td>\n",
       "      <td>1</td>\n",
       "    </tr>\n",
       "    <tr>\n",
       "      <th>4</th>\n",
       "      <td>5</td>\n",
       "      <td>51</td>\n",
       "      <td>1.002657</td>\n",
       "      <td>100</td>\n",
       "      <td>2</td>\n",
       "      <td>1</td>\n",
       "    </tr>\n",
       "  </tbody>\n",
       "</table>\n",
       "</div>"
      ],
      "text/plain": [
       "   time_id  seconds_in_bucket     price  size  order_count  stock_id\n",
       "0        5                 28  1.002080   553           11         1\n",
       "1        5                 39  1.002460     8            3         1\n",
       "2        5                 42  1.002308   147            4         1\n",
       "3        5                 44  1.002788     1            1         1\n",
       "4        5                 51  1.002657   100            2         1"
      ]
     },
     "execution_count": 19,
     "metadata": {},
     "output_type": "execute_result"
    }
   ],
   "source": [
    "trade_stock_1.head()"
   ]
  },
  {
   "cell_type": "code",
   "execution_count": 20,
   "metadata": {
    "execution": {
     "iopub.execute_input": "2025-10-02T14:20:51.624182Z",
     "iopub.status.busy": "2025-10-02T14:20:51.623804Z",
     "iopub.status.idle": "2025-10-02T14:29:16.409263Z",
     "shell.execute_reply": "2025-10-02T14:29:16.408420Z",
     "shell.execute_reply.started": "2025-10-02T14:20:51.624146Z"
    },
    "trusted": true
   },
   "outputs": [
    {
     "name": "stdout",
     "output_type": "stream",
     "text": [
      "CPU times: total: 2.31 s\n",
      "Wall time: 2min 53s\n"
     ]
    },
    {
     "data": {
      "application/vnd.microsoft.datawrangler.viewer.v0+json": {
       "columns": [
        {
         "name": "index",
         "rawType": "int64",
         "type": "integer"
        },
        {
         "name": "time_id",
         "rawType": "int16",
         "type": "integer"
        },
        {
         "name": "log_return1",
         "rawType": "float64",
         "type": "float"
        },
        {
         "name": "bas",
         "rawType": "float32",
         "type": "float"
        },
        {
         "name": "log_return2",
         "rawType": "float64",
         "type": "float"
        },
        {
         "name": "log_return_bid_price1",
         "rawType": "float32",
         "type": "float"
        },
        {
         "name": "log_return_ask_price1",
         "rawType": "float32",
         "type": "float"
        },
        {
         "name": "log_return_bid_size1",
         "rawType": "float64",
         "type": "float"
        },
        {
         "name": "log_return_ask_size1",
         "rawType": "float64",
         "type": "float"
        },
        {
         "name": "log_ask_1_div_bid_1",
         "rawType": "float32",
         "type": "float"
        },
        {
         "name": "log_ask_1_div_bid_1_size",
         "rawType": "float64",
         "type": "float"
        },
        {
         "name": "stock_id",
         "rawType": "int64",
         "type": "integer"
        }
       ],
       "ref": "76483e3b-9473-4608-9857-5af150f83c35",
       "rows": [
        [
         "0",
         "5",
         "0.0041146791172599435",
         "0.00085222325",
         "0.00410576481291803",
         "0.0026017528",
         "0.0024756119",
         "25.371833791009838",
         "29.77264194226755",
         "0.015250668",
         "47.1739814219773",
         "0"
        ],
        [
         "1",
         "11",
         "0.0012683619904927986",
         "0.00039428115",
         "0.0015072004260869977",
         "0.003793111",
         "0.0036853785",
         "17.55725551400241",
         "16.155778793753218",
         "0.0059993514",
         "39.85346369200729",
         "0"
        ],
        [
         "2",
         "16",
         "0.002719116611588031",
         "0.00072542595",
         "0.002468536988749982",
         "0.0016968006",
         "0.0017918042",
         "14.737647827102649",
         "11.275510807252953",
         "0.010191092",
         "29.314080816321948",
         "0"
        ],
        [
         "3",
         "31",
         "0.00262517608025175",
         "0.0008608391",
         "0.0027085139913048607",
         "0.0029922873",
         "0.002740129",
         "13.412586478778609",
         "9.77489211465719",
         "0.009908084",
         "26.98180765390695",
         "0"
        ],
        [
         "4",
         "62",
         "0.0019007686794087395",
         "0.00039725006",
         "0.001932414589494655",
         "0.0025359476",
         "0.0019263098",
         "23.797380739382973",
         "17.759397140335782",
         "0.005542528",
         "36.74681186932183",
         "0"
        ]
       ],
       "shape": {
        "columns": 11,
        "rows": 5
       }
      },
      "text/html": [
       "<div>\n",
       "<style scoped>\n",
       "    .dataframe tbody tr th:only-of-type {\n",
       "        vertical-align: middle;\n",
       "    }\n",
       "\n",
       "    .dataframe tbody tr th {\n",
       "        vertical-align: top;\n",
       "    }\n",
       "\n",
       "    .dataframe thead th {\n",
       "        text-align: right;\n",
       "    }\n",
       "</style>\n",
       "<table border=\"1\" class=\"dataframe\">\n",
       "  <thead>\n",
       "    <tr style=\"text-align: right;\">\n",
       "      <th></th>\n",
       "      <th>time_id</th>\n",
       "      <th>log_return1</th>\n",
       "      <th>bas</th>\n",
       "      <th>log_return2</th>\n",
       "      <th>log_return_bid_price1</th>\n",
       "      <th>log_return_ask_price1</th>\n",
       "      <th>log_return_bid_size1</th>\n",
       "      <th>log_return_ask_size1</th>\n",
       "      <th>log_ask_1_div_bid_1</th>\n",
       "      <th>log_ask_1_div_bid_1_size</th>\n",
       "      <th>stock_id</th>\n",
       "    </tr>\n",
       "  </thead>\n",
       "  <tbody>\n",
       "    <tr>\n",
       "      <th>0</th>\n",
       "      <td>5</td>\n",
       "      <td>0.004115</td>\n",
       "      <td>0.000852</td>\n",
       "      <td>0.004106</td>\n",
       "      <td>0.002602</td>\n",
       "      <td>0.002476</td>\n",
       "      <td>25.371834</td>\n",
       "      <td>29.772642</td>\n",
       "      <td>0.015251</td>\n",
       "      <td>47.173981</td>\n",
       "      <td>0</td>\n",
       "    </tr>\n",
       "    <tr>\n",
       "      <th>1</th>\n",
       "      <td>11</td>\n",
       "      <td>0.001268</td>\n",
       "      <td>0.000394</td>\n",
       "      <td>0.001507</td>\n",
       "      <td>0.003793</td>\n",
       "      <td>0.003685</td>\n",
       "      <td>17.557256</td>\n",
       "      <td>16.155779</td>\n",
       "      <td>0.005999</td>\n",
       "      <td>39.853464</td>\n",
       "      <td>0</td>\n",
       "    </tr>\n",
       "    <tr>\n",
       "      <th>2</th>\n",
       "      <td>16</td>\n",
       "      <td>0.002719</td>\n",
       "      <td>0.000725</td>\n",
       "      <td>0.002469</td>\n",
       "      <td>0.001697</td>\n",
       "      <td>0.001792</td>\n",
       "      <td>14.737648</td>\n",
       "      <td>11.275511</td>\n",
       "      <td>0.010191</td>\n",
       "      <td>29.314081</td>\n",
       "      <td>0</td>\n",
       "    </tr>\n",
       "    <tr>\n",
       "      <th>3</th>\n",
       "      <td>31</td>\n",
       "      <td>0.002625</td>\n",
       "      <td>0.000861</td>\n",
       "      <td>0.002709</td>\n",
       "      <td>0.002992</td>\n",
       "      <td>0.002740</td>\n",
       "      <td>13.412586</td>\n",
       "      <td>9.774892</td>\n",
       "      <td>0.009908</td>\n",
       "      <td>26.981808</td>\n",
       "      <td>0</td>\n",
       "    </tr>\n",
       "    <tr>\n",
       "      <th>4</th>\n",
       "      <td>62</td>\n",
       "      <td>0.001901</td>\n",
       "      <td>0.000397</td>\n",
       "      <td>0.001932</td>\n",
       "      <td>0.002536</td>\n",
       "      <td>0.001926</td>\n",
       "      <td>23.797381</td>\n",
       "      <td>17.759397</td>\n",
       "      <td>0.005543</td>\n",
       "      <td>36.746812</td>\n",
       "      <td>0</td>\n",
       "    </tr>\n",
       "  </tbody>\n",
       "</table>\n",
       "</div>"
      ],
      "text/plain": [
       "   time_id  log_return1       bas  log_return2  log_return_bid_price1  \\\n",
       "0        5     0.004115  0.000852     0.004106               0.002602   \n",
       "1       11     0.001268  0.000394     0.001507               0.003793   \n",
       "2       16     0.002719  0.000725     0.002469               0.001697   \n",
       "3       31     0.002625  0.000861     0.002709               0.002992   \n",
       "4       62     0.001901  0.000397     0.001932               0.002536   \n",
       "\n",
       "   log_return_ask_price1  log_return_bid_size1  log_return_ask_size1  \\\n",
       "0               0.002476             25.371834             29.772642   \n",
       "1               0.003685             17.557256             16.155779   \n",
       "2               0.001792             14.737648             11.275511   \n",
       "3               0.002740             13.412586              9.774892   \n",
       "4               0.001926             23.797381             17.759397   \n",
       "\n",
       "   log_ask_1_div_bid_1  log_ask_1_div_bid_1_size  stock_id  \n",
       "0             0.015251                 47.173981         0  \n",
       "1             0.005999                 39.853464         0  \n",
       "2             0.010191                 29.314081         0  \n",
       "3             0.009908                 26.981808         0  \n",
       "4             0.005543                 36.746812         0  "
      ]
     },
     "execution_count": 20,
     "metadata": {},
     "output_type": "execute_result"
    }
   ],
   "source": [
    "%%time\n",
    "train_stock_stat_df = get_data_set(train.stock_id.unique(), dataType = 'train')\n",
    "train_stock_stat_df.head()"
   ]
  },
  {
   "cell_type": "code",
   "execution_count": 21,
   "metadata": {
    "execution": {
     "iopub.execute_input": "2025-10-02T14:29:16.410906Z",
     "iopub.status.busy": "2025-10-02T14:29:16.410676Z",
     "iopub.status.idle": "2025-10-02T14:29:16.568313Z",
     "shell.execute_reply": "2025-10-02T14:29:16.567386Z",
     "shell.execute_reply.started": "2025-10-02T14:29:16.410881Z"
    },
    "trusted": true
   },
   "outputs": [
    {
     "data": {
      "application/vnd.microsoft.datawrangler.viewer.v0+json": {
       "columns": [
        {
         "name": "index",
         "rawType": "int64",
         "type": "integer"
        },
        {
         "name": "stock_id",
         "rawType": "int64",
         "type": "integer"
        },
        {
         "name": "time_id",
         "rawType": "int64",
         "type": "integer"
        },
        {
         "name": "target",
         "rawType": "float64",
         "type": "float"
        },
        {
         "name": "log_return1",
         "rawType": "float64",
         "type": "float"
        },
        {
         "name": "bas",
         "rawType": "float32",
         "type": "float"
        },
        {
         "name": "log_return2",
         "rawType": "float64",
         "type": "float"
        },
        {
         "name": "log_return_bid_price1",
         "rawType": "float32",
         "type": "float"
        },
        {
         "name": "log_return_ask_price1",
         "rawType": "float32",
         "type": "float"
        },
        {
         "name": "log_return_bid_size1",
         "rawType": "float64",
         "type": "float"
        },
        {
         "name": "log_return_ask_size1",
         "rawType": "float64",
         "type": "float"
        },
        {
         "name": "log_ask_1_div_bid_1",
         "rawType": "float32",
         "type": "float"
        },
        {
         "name": "log_ask_1_div_bid_1_size",
         "rawType": "float64",
         "type": "float"
        }
       ],
       "ref": "a8c533fc-6c08-42a1-860e-102f4bd3e082",
       "rows": [
        [
         "0",
         "0",
         "5",
         "0.004135767",
         "0.0041146791172599435",
         "0.00085222325",
         "0.00410576481291803",
         "0.0026017528",
         "0.0024756119",
         "25.371833791009838",
         "29.77264194226755",
         "0.015250668",
         "47.1739814219773"
        ],
        [
         "1",
         "0",
         "11",
         "0.001444587",
         "0.0012683619904927986",
         "0.00039428115",
         "0.0015072004260869977",
         "0.003793111",
         "0.0036853785",
         "17.55725551400241",
         "16.155778793753218",
         "0.0059993514",
         "39.85346369200729"
        ],
        [
         "2",
         "0",
         "16",
         "0.002168189",
         "0.002719116611588031",
         "0.00072542595",
         "0.002468536988749982",
         "0.0016968006",
         "0.0017918042",
         "14.737647827102649",
         "11.275510807252953",
         "0.010191092",
         "29.314080816321948"
        ],
        [
         "3",
         "0",
         "31",
         "0.002195261",
         "0.00262517608025175",
         "0.0008608391",
         "0.0027085139913048607",
         "0.0029922873",
         "0.002740129",
         "13.412586478778609",
         "9.77489211465719",
         "0.009908084",
         "26.98180765390695"
        ],
        [
         "4",
         "0",
         "62",
         "0.001747216",
         "0.0019007686794087395",
         "0.00039725006",
         "0.001932414589494655",
         "0.0025359476",
         "0.0019263098",
         "23.797380739382973",
         "17.759397140335782",
         "0.005542528",
         "36.74681186932183"
        ]
       ],
       "shape": {
        "columns": 12,
        "rows": 5
       }
      },
      "text/html": [
       "<div>\n",
       "<style scoped>\n",
       "    .dataframe tbody tr th:only-of-type {\n",
       "        vertical-align: middle;\n",
       "    }\n",
       "\n",
       "    .dataframe tbody tr th {\n",
       "        vertical-align: top;\n",
       "    }\n",
       "\n",
       "    .dataframe thead th {\n",
       "        text-align: right;\n",
       "    }\n",
       "</style>\n",
       "<table border=\"1\" class=\"dataframe\">\n",
       "  <thead>\n",
       "    <tr style=\"text-align: right;\">\n",
       "      <th></th>\n",
       "      <th>stock_id</th>\n",
       "      <th>time_id</th>\n",
       "      <th>target</th>\n",
       "      <th>log_return1</th>\n",
       "      <th>bas</th>\n",
       "      <th>log_return2</th>\n",
       "      <th>log_return_bid_price1</th>\n",
       "      <th>log_return_ask_price1</th>\n",
       "      <th>log_return_bid_size1</th>\n",
       "      <th>log_return_ask_size1</th>\n",
       "      <th>log_ask_1_div_bid_1</th>\n",
       "      <th>log_ask_1_div_bid_1_size</th>\n",
       "    </tr>\n",
       "  </thead>\n",
       "  <tbody>\n",
       "    <tr>\n",
       "      <th>0</th>\n",
       "      <td>0</td>\n",
       "      <td>5</td>\n",
       "      <td>0.004136</td>\n",
       "      <td>0.004115</td>\n",
       "      <td>0.000852</td>\n",
       "      <td>0.004106</td>\n",
       "      <td>0.002602</td>\n",
       "      <td>0.002476</td>\n",
       "      <td>25.371834</td>\n",
       "      <td>29.772642</td>\n",
       "      <td>0.015251</td>\n",
       "      <td>47.173981</td>\n",
       "    </tr>\n",
       "    <tr>\n",
       "      <th>1</th>\n",
       "      <td>0</td>\n",
       "      <td>11</td>\n",
       "      <td>0.001445</td>\n",
       "      <td>0.001268</td>\n",
       "      <td>0.000394</td>\n",
       "      <td>0.001507</td>\n",
       "      <td>0.003793</td>\n",
       "      <td>0.003685</td>\n",
       "      <td>17.557256</td>\n",
       "      <td>16.155779</td>\n",
       "      <td>0.005999</td>\n",
       "      <td>39.853464</td>\n",
       "    </tr>\n",
       "    <tr>\n",
       "      <th>2</th>\n",
       "      <td>0</td>\n",
       "      <td>16</td>\n",
       "      <td>0.002168</td>\n",
       "      <td>0.002719</td>\n",
       "      <td>0.000725</td>\n",
       "      <td>0.002469</td>\n",
       "      <td>0.001697</td>\n",
       "      <td>0.001792</td>\n",
       "      <td>14.737648</td>\n",
       "      <td>11.275511</td>\n",
       "      <td>0.010191</td>\n",
       "      <td>29.314081</td>\n",
       "    </tr>\n",
       "    <tr>\n",
       "      <th>3</th>\n",
       "      <td>0</td>\n",
       "      <td>31</td>\n",
       "      <td>0.002195</td>\n",
       "      <td>0.002625</td>\n",
       "      <td>0.000861</td>\n",
       "      <td>0.002709</td>\n",
       "      <td>0.002992</td>\n",
       "      <td>0.002740</td>\n",
       "      <td>13.412586</td>\n",
       "      <td>9.774892</td>\n",
       "      <td>0.009908</td>\n",
       "      <td>26.981808</td>\n",
       "    </tr>\n",
       "    <tr>\n",
       "      <th>4</th>\n",
       "      <td>0</td>\n",
       "      <td>62</td>\n",
       "      <td>0.001747</td>\n",
       "      <td>0.001901</td>\n",
       "      <td>0.000397</td>\n",
       "      <td>0.001932</td>\n",
       "      <td>0.002536</td>\n",
       "      <td>0.001926</td>\n",
       "      <td>23.797381</td>\n",
       "      <td>17.759397</td>\n",
       "      <td>0.005543</td>\n",
       "      <td>36.746812</td>\n",
       "    </tr>\n",
       "  </tbody>\n",
       "</table>\n",
       "</div>"
      ],
      "text/plain": [
       "   stock_id  time_id    target  log_return1       bas  log_return2  \\\n",
       "0         0        5  0.004136     0.004115  0.000852     0.004106   \n",
       "1         0       11  0.001445     0.001268  0.000394     0.001507   \n",
       "2         0       16  0.002168     0.002719  0.000725     0.002469   \n",
       "3         0       31  0.002195     0.002625  0.000861     0.002709   \n",
       "4         0       62  0.001747     0.001901  0.000397     0.001932   \n",
       "\n",
       "   log_return_bid_price1  log_return_ask_price1  log_return_bid_size1  \\\n",
       "0               0.002602               0.002476             25.371834   \n",
       "1               0.003793               0.003685             17.557256   \n",
       "2               0.001697               0.001792             14.737648   \n",
       "3               0.002992               0.002740             13.412586   \n",
       "4               0.002536               0.001926             23.797381   \n",
       "\n",
       "   log_return_ask_size1  log_ask_1_div_bid_1  log_ask_1_div_bid_1_size  \n",
       "0             29.772642             0.015251                 47.173981  \n",
       "1             16.155779             0.005999                 39.853464  \n",
       "2             11.275511             0.010191                 29.314081  \n",
       "3              9.774892             0.009908                 26.981808  \n",
       "4             17.759397             0.005543                 36.746812  "
      ]
     },
     "execution_count": 21,
     "metadata": {},
     "output_type": "execute_result"
    }
   ],
   "source": [
    "train_data_set = pd.merge(train, train_stock_stat_df, on = ['stock_id', 'time_id'], how = 'left')\n",
    "train_data_set.head()"
   ]
  },
  {
   "cell_type": "code",
   "execution_count": 22,
   "metadata": {
    "execution": {
     "iopub.execute_input": "2025-10-02T14:29:16.569460Z",
     "iopub.status.busy": "2025-10-02T14:29:16.569245Z",
     "iopub.status.idle": "2025-10-02T14:29:16.602542Z",
     "shell.execute_reply": "2025-10-02T14:29:16.601703Z",
     "shell.execute_reply.started": "2025-10-02T14:29:16.569439Z"
    },
    "trusted": true
   },
   "outputs": [
    {
     "name": "stdout",
     "output_type": "stream",
     "text": [
      "<class 'pandas.core.frame.DataFrame'>\n",
      "RangeIndex: 428932 entries, 0 to 428931\n",
      "Data columns (total 12 columns):\n",
      " #   Column                    Non-Null Count   Dtype  \n",
      "---  ------                    --------------   -----  \n",
      " 0   stock_id                  428932 non-null  int64  \n",
      " 1   time_id                   428932 non-null  int64  \n",
      " 2   target                    428932 non-null  float64\n",
      " 3   log_return1               428932 non-null  float64\n",
      " 4   bas                       428932 non-null  float32\n",
      " 5   log_return2               428932 non-null  float64\n",
      " 6   log_return_bid_price1     428932 non-null  float32\n",
      " 7   log_return_ask_price1     428932 non-null  float32\n",
      " 8   log_return_bid_size1      428932 non-null  float64\n",
      " 9   log_return_ask_size1      428932 non-null  float64\n",
      " 10  log_ask_1_div_bid_1       428932 non-null  float32\n",
      " 11  log_ask_1_div_bid_1_size  428932 non-null  float64\n",
      "dtypes: float32(4), float64(6), int64(2)\n",
      "memory usage: 32.7 MB\n"
     ]
    }
   ],
   "source": [
    "train_data_set.info()"
   ]
  },
  {
   "cell_type": "code",
   "execution_count": 23,
   "metadata": {
    "execution": {
     "iopub.execute_input": "2025-10-02T14:29:16.603979Z",
     "iopub.status.busy": "2025-10-02T14:29:16.603649Z",
     "iopub.status.idle": "2025-10-02T14:29:16.712563Z",
     "shell.execute_reply": "2025-10-02T14:29:16.711782Z",
     "shell.execute_reply.started": "2025-10-02T14:29:16.603942Z"
    },
    "trusted": true
   },
   "outputs": [
    {
     "name": "stdout",
     "output_type": "stream",
     "text": [
      "CPU times: total: 15.6 ms\n",
      "Wall time: 70 ms\n"
     ]
    },
    {
     "data": {
      "application/vnd.microsoft.datawrangler.viewer.v0+json": {
       "columns": [
        {
         "name": "index",
         "rawType": "int64",
         "type": "integer"
        },
        {
         "name": "time_id",
         "rawType": "int16",
         "type": "integer"
        },
        {
         "name": "log_return1",
         "rawType": "float64",
         "type": "float"
        },
        {
         "name": "bas",
         "rawType": "float32",
         "type": "float"
        },
        {
         "name": "log_return2",
         "rawType": "float64",
         "type": "float"
        },
        {
         "name": "log_return_bid_price1",
         "rawType": "float32",
         "type": "float"
        },
        {
         "name": "log_return_ask_price1",
         "rawType": "float32",
         "type": "float"
        },
        {
         "name": "log_return_bid_size1",
         "rawType": "float64",
         "type": "float"
        },
        {
         "name": "log_return_ask_size1",
         "rawType": "float64",
         "type": "float"
        },
        {
         "name": "log_ask_1_div_bid_1",
         "rawType": "float32",
         "type": "float"
        },
        {
         "name": "log_ask_1_div_bid_1_size",
         "rawType": "float64",
         "type": "float"
        },
        {
         "name": "stock_id",
         "rawType": "int64",
         "type": "integer"
        }
       ],
       "ref": "1e1a0090-4758-46a8-9933-fccf67961b52",
       "rows": [
        [
         "0",
         "4",
         "0.00027272192664706005",
         "0.0005572637",
         "0.00026335691668052274",
         "0.0",
         "4.9232225e-05",
         "1.1590214164636696",
         "1.6094379124341005",
         "0.00096577575",
         "2.6774726903844197",
         "0"
        ]
       ],
       "shape": {
        "columns": 11,
        "rows": 1
       }
      },
      "text/html": [
       "<div>\n",
       "<style scoped>\n",
       "    .dataframe tbody tr th:only-of-type {\n",
       "        vertical-align: middle;\n",
       "    }\n",
       "\n",
       "    .dataframe tbody tr th {\n",
       "        vertical-align: top;\n",
       "    }\n",
       "\n",
       "    .dataframe thead th {\n",
       "        text-align: right;\n",
       "    }\n",
       "</style>\n",
       "<table border=\"1\" class=\"dataframe\">\n",
       "  <thead>\n",
       "    <tr style=\"text-align: right;\">\n",
       "      <th></th>\n",
       "      <th>time_id</th>\n",
       "      <th>log_return1</th>\n",
       "      <th>bas</th>\n",
       "      <th>log_return2</th>\n",
       "      <th>log_return_bid_price1</th>\n",
       "      <th>log_return_ask_price1</th>\n",
       "      <th>log_return_bid_size1</th>\n",
       "      <th>log_return_ask_size1</th>\n",
       "      <th>log_ask_1_div_bid_1</th>\n",
       "      <th>log_ask_1_div_bid_1_size</th>\n",
       "      <th>stock_id</th>\n",
       "    </tr>\n",
       "  </thead>\n",
       "  <tbody>\n",
       "    <tr>\n",
       "      <th>0</th>\n",
       "      <td>4</td>\n",
       "      <td>0.000273</td>\n",
       "      <td>0.000557</td>\n",
       "      <td>0.000263</td>\n",
       "      <td>0.0</td>\n",
       "      <td>0.000049</td>\n",
       "      <td>1.159021</td>\n",
       "      <td>1.609438</td>\n",
       "      <td>0.000966</td>\n",
       "      <td>2.677473</td>\n",
       "      <td>0</td>\n",
       "    </tr>\n",
       "  </tbody>\n",
       "</table>\n",
       "</div>"
      ],
      "text/plain": [
       "   time_id  log_return1       bas  log_return2  log_return_bid_price1  \\\n",
       "0        4     0.000273  0.000557     0.000263                    0.0   \n",
       "\n",
       "   log_return_ask_price1  log_return_bid_size1  log_return_ask_size1  \\\n",
       "0               0.000049              1.159021              1.609438   \n",
       "\n",
       "   log_ask_1_div_bid_1  log_ask_1_div_bid_1_size  stock_id  \n",
       "0             0.000966                  2.677473         0  "
      ]
     },
     "execution_count": 23,
     "metadata": {},
     "output_type": "execute_result"
    }
   ],
   "source": [
    "%%time\n",
    "test_stock_stat_df = get_data_set(test['stock_id'].unique(), dataType = 'test')\n",
    "test_stock_stat_df"
   ]
  },
  {
   "cell_type": "code",
   "execution_count": 24,
   "metadata": {
    "execution": {
     "iopub.execute_input": "2025-10-02T14:29:16.713788Z",
     "iopub.status.busy": "2025-10-02T14:29:16.713537Z",
     "iopub.status.idle": "2025-10-02T14:29:16.731435Z",
     "shell.execute_reply": "2025-10-02T14:29:16.730668Z",
     "shell.execute_reply.started": "2025-10-02T14:29:16.713764Z"
    },
    "trusted": true
   },
   "outputs": [
    {
     "data": {
      "application/vnd.microsoft.datawrangler.viewer.v0+json": {
       "columns": [
        {
         "name": "index",
         "rawType": "int64",
         "type": "integer"
        },
        {
         "name": "stock_id",
         "rawType": "int64",
         "type": "integer"
        },
        {
         "name": "time_id",
         "rawType": "int64",
         "type": "integer"
        },
        {
         "name": "row_id",
         "rawType": "object",
         "type": "string"
        },
        {
         "name": "log_return1",
         "rawType": "float64",
         "type": "float"
        },
        {
         "name": "bas",
         "rawType": "float32",
         "type": "float"
        },
        {
         "name": "log_return2",
         "rawType": "float64",
         "type": "float"
        },
        {
         "name": "log_return_bid_price1",
         "rawType": "float32",
         "type": "float"
        },
        {
         "name": "log_return_ask_price1",
         "rawType": "float32",
         "type": "float"
        },
        {
         "name": "log_return_bid_size1",
         "rawType": "float64",
         "type": "float"
        },
        {
         "name": "log_return_ask_size1",
         "rawType": "float64",
         "type": "float"
        },
        {
         "name": "log_ask_1_div_bid_1",
         "rawType": "float32",
         "type": "float"
        },
        {
         "name": "log_ask_1_div_bid_1_size",
         "rawType": "float64",
         "type": "float"
        }
       ],
       "ref": "6c73e858-7389-4762-9f28-5b5bc53a1dd2",
       "rows": [
        [
         "0",
         "0",
         "4",
         "0-4",
         "0.00027272192664706005",
         "0.0005572637",
         "0.00026335691668052274",
         "0.0",
         "4.9232225e-05",
         "1.1590214164636696",
         "1.6094379124341005",
         "0.00096577575",
         "2.6774726903844197"
        ],
        [
         "1",
         "0",
         "32",
         "0-32",
         "-999.0",
         "-999.0",
         "-999.0",
         "-999.0",
         "-999.0",
         "-999.0",
         "-999.0",
         "-999.0",
         "-999.0"
        ],
        [
         "2",
         "0",
         "34",
         "0-34",
         "-999.0",
         "-999.0",
         "-999.0",
         "-999.0",
         "-999.0",
         "-999.0",
         "-999.0",
         "-999.0",
         "-999.0"
        ]
       ],
       "shape": {
        "columns": 12,
        "rows": 3
       }
      },
      "text/html": [
       "<div>\n",
       "<style scoped>\n",
       "    .dataframe tbody tr th:only-of-type {\n",
       "        vertical-align: middle;\n",
       "    }\n",
       "\n",
       "    .dataframe tbody tr th {\n",
       "        vertical-align: top;\n",
       "    }\n",
       "\n",
       "    .dataframe thead th {\n",
       "        text-align: right;\n",
       "    }\n",
       "</style>\n",
       "<table border=\"1\" class=\"dataframe\">\n",
       "  <thead>\n",
       "    <tr style=\"text-align: right;\">\n",
       "      <th></th>\n",
       "      <th>stock_id</th>\n",
       "      <th>time_id</th>\n",
       "      <th>row_id</th>\n",
       "      <th>log_return1</th>\n",
       "      <th>bas</th>\n",
       "      <th>log_return2</th>\n",
       "      <th>log_return_bid_price1</th>\n",
       "      <th>log_return_ask_price1</th>\n",
       "      <th>log_return_bid_size1</th>\n",
       "      <th>log_return_ask_size1</th>\n",
       "      <th>log_ask_1_div_bid_1</th>\n",
       "      <th>log_ask_1_div_bid_1_size</th>\n",
       "    </tr>\n",
       "  </thead>\n",
       "  <tbody>\n",
       "    <tr>\n",
       "      <th>0</th>\n",
       "      <td>0</td>\n",
       "      <td>4</td>\n",
       "      <td>0-4</td>\n",
       "      <td>0.000273</td>\n",
       "      <td>0.000557</td>\n",
       "      <td>0.000263</td>\n",
       "      <td>0.0</td>\n",
       "      <td>0.000049</td>\n",
       "      <td>1.159021</td>\n",
       "      <td>1.609438</td>\n",
       "      <td>0.000966</td>\n",
       "      <td>2.677473</td>\n",
       "    </tr>\n",
       "    <tr>\n",
       "      <th>1</th>\n",
       "      <td>0</td>\n",
       "      <td>32</td>\n",
       "      <td>0-32</td>\n",
       "      <td>-999.000000</td>\n",
       "      <td>-999.000000</td>\n",
       "      <td>-999.000000</td>\n",
       "      <td>-999.0</td>\n",
       "      <td>-999.000000</td>\n",
       "      <td>-999.000000</td>\n",
       "      <td>-999.000000</td>\n",
       "      <td>-999.000000</td>\n",
       "      <td>-999.000000</td>\n",
       "    </tr>\n",
       "    <tr>\n",
       "      <th>2</th>\n",
       "      <td>0</td>\n",
       "      <td>34</td>\n",
       "      <td>0-34</td>\n",
       "      <td>-999.000000</td>\n",
       "      <td>-999.000000</td>\n",
       "      <td>-999.000000</td>\n",
       "      <td>-999.0</td>\n",
       "      <td>-999.000000</td>\n",
       "      <td>-999.000000</td>\n",
       "      <td>-999.000000</td>\n",
       "      <td>-999.000000</td>\n",
       "      <td>-999.000000</td>\n",
       "    </tr>\n",
       "  </tbody>\n",
       "</table>\n",
       "</div>"
      ],
      "text/plain": [
       "   stock_id  time_id row_id  log_return1         bas  log_return2  \\\n",
       "0         0        4    0-4     0.000273    0.000557     0.000263   \n",
       "1         0       32   0-32  -999.000000 -999.000000  -999.000000   \n",
       "2         0       34   0-34  -999.000000 -999.000000  -999.000000   \n",
       "\n",
       "   log_return_bid_price1  log_return_ask_price1  log_return_bid_size1  \\\n",
       "0                    0.0               0.000049              1.159021   \n",
       "1                 -999.0            -999.000000           -999.000000   \n",
       "2                 -999.0            -999.000000           -999.000000   \n",
       "\n",
       "   log_return_ask_size1  log_ask_1_div_bid_1  log_ask_1_div_bid_1_size  \n",
       "0              1.609438             0.000966                  2.677473  \n",
       "1           -999.000000          -999.000000               -999.000000  \n",
       "2           -999.000000          -999.000000               -999.000000  "
      ]
     },
     "execution_count": 24,
     "metadata": {},
     "output_type": "execute_result"
    }
   ],
   "source": [
    "test_data_set = pd.merge(test, test_stock_stat_df, on = ['stock_id', 'time_id'], how = 'left')\n",
    "test_data_set.fillna(-999, inplace=True)\n",
    "test_data_set"
   ]
  },
  {
   "cell_type": "code",
   "execution_count": 25,
   "metadata": {
    "execution": {
     "iopub.execute_input": "2025-10-02T14:29:16.732588Z",
     "iopub.status.busy": "2025-10-02T14:29:16.732381Z",
     "iopub.status.idle": "2025-10-02T14:29:16.830739Z",
     "shell.execute_reply": "2025-10-02T14:29:16.830099Z",
     "shell.execute_reply.started": "2025-10-02T14:29:16.732567Z"
    },
    "trusted": true
   },
   "outputs": [],
   "source": [
    "# train_data_set.to_pickle('train_features_df.pickle')\n",
    "# test_data_set.to_pickle('test_features_df.pickle')"
   ]
  },
  {
   "cell_type": "code",
   "execution_count": 26,
   "metadata": {
    "execution": {
     "iopub.execute_input": "2025-10-02T14:29:50.887035Z",
     "iopub.status.busy": "2025-10-02T14:29:50.886426Z",
     "iopub.status.idle": "2025-10-02T14:29:51.047044Z",
     "shell.execute_reply": "2025-10-02T14:29:51.046065Z",
     "shell.execute_reply.started": "2025-10-02T14:29:50.886946Z"
    },
    "trusted": true
   },
   "outputs": [],
   "source": [
    "x = gc.collect()"
   ]
  },
  {
   "cell_type": "code",
   "execution_count": 27,
   "metadata": {
    "execution": {
     "iopub.execute_input": "2025-10-02T14:29:56.849810Z",
     "iopub.status.busy": "2025-10-02T14:29:56.849509Z",
     "iopub.status.idle": "2025-10-02T14:29:56.870791Z",
     "shell.execute_reply": "2025-10-02T14:29:56.869935Z",
     "shell.execute_reply.started": "2025-10-02T14:29:56.849784Z"
    },
    "trusted": true
   },
   "outputs": [
    {
     "data": {
      "text/plain": [
       "((428932, 9), (428932,))"
      ]
     },
     "execution_count": 27,
     "metadata": {},
     "output_type": "execute_result"
    }
   ],
   "source": [
    "X_display = train_data_set.drop(['stock_id', 'time_id', 'target'], axis = 1)\n",
    "X = X_display.values\n",
    "y = train_data_set['target'].values\n",
    "\n",
    "X.shape, y.shape"
   ]
  },
  {
   "cell_type": "code",
   "execution_count": 28,
   "metadata": {
    "execution": {
     "iopub.execute_input": "2025-10-02T14:37:26.144898Z",
     "iopub.status.busy": "2025-10-02T14:37:26.144605Z",
     "iopub.status.idle": "2025-10-02T14:37:26.161507Z",
     "shell.execute_reply": "2025-10-02T14:37:26.160775Z",
     "shell.execute_reply.started": "2025-10-02T14:37:26.144872Z"
    },
    "trusted": true
   },
   "outputs": [
    {
     "data": {
      "text/plain": [
       "((343145, 9), (85787, 9), (343145,), (85787,))"
      ]
     },
     "execution_count": 28,
     "metadata": {},
     "output_type": "execute_result"
    }
   ],
   "source": [
    "X_train, X_test, y_train, y_test = train_test_split(X, y, test_size=0.2, random_state=Config.seed, shuffle=False)\n",
    "X_train.shape, X_test.shape, y_train.shape, y_test.shape"
   ]
  },
  {
   "cell_type": "code",
   "execution_count": 29,
   "metadata": {
    "execution": {
     "iopub.execute_input": "2025-10-02T14:30:09.047429Z",
     "iopub.status.busy": "2025-10-02T14:30:09.047120Z",
     "iopub.status.idle": "2025-10-02T14:30:09.050939Z",
     "shell.execute_reply": "2025-10-02T14:30:09.050109Z",
     "shell.execute_reply.started": "2025-10-02T14:30:09.047403Z"
    },
    "trusted": true
   },
   "outputs": [],
   "source": [
    "rs = Config.seed"
   ]
  },
  {
   "cell_type": "code",
   "execution_count": 34,
   "metadata": {
    "execution": {
     "iopub.execute_input": "2025-10-02T14:30:11.569125Z",
     "iopub.status.busy": "2025-10-02T14:30:11.568798Z",
     "iopub.status.idle": "2025-10-02T14:30:11.577268Z",
     "shell.execute_reply": "2025-10-02T14:30:11.576394Z",
     "shell.execute_reply.started": "2025-10-02T14:30:11.569093Z"
    },
    "trusted": true
   },
   "outputs": [],
   "source": [
    "import optuna\n",
    "from optuna.samplers import TPESampler\n",
    "\n",
    "def objective(trial, data=X, target=y):\n",
    "    \n",
    "    def rmspe(y_true, y_pred):\n",
    "        return  (np.sqrt(np.mean(np.square((y_true - y_pred) / y_true))))\n",
    "    \n",
    "    X_train, X_test, y_train, y_test = train_test_split(X, y, test_size=0.15, random_state=rs, shuffle=False)\n",
    "    \n",
    "    param = {\n",
    "        'tree_method':'gpu_hist', \n",
    "        'lambda': trial.suggest_loguniform('lambda', 1e-3, 10.0),\n",
    "        'alpha': trial.suggest_loguniform('alpha', 1e-3, 10.0),\n",
    "        'colsample_bytree': trial.suggest_categorical('colsample_bytree', [0.3,0.4,0.5,0.6,0.7,0.8,0.9, 1.0]),\n",
    "        'subsample': trial.suggest_categorical('subsample', [0.4,0.5,0.6,0.7,0.8,1.0]),\n",
    "        'learning_rate': trial.suggest_categorical('learning_rate', [0.008,0.009,0.01,0.012,0.014,0.016,0.018, 0.02]),\n",
    "        'n_estimators': trial.suggest_int('n_estimators', 500, 3000),\n",
    "        'max_depth': trial.suggest_categorical('max_depth', [5,7,9,11,13,15,17,20]),\n",
    "        'random_state': trial.suggest_categorical('random_state', [24, 48,2020]),\n",
    "        'min_child_weight': trial.suggest_int('min_child_weight', 1, 300)}\n",
    "    \n",
    "    model = XGBRegressor(**param)\n",
    "    \n",
    "    pruning_callback = optuna.integration.XGBoostPruningCallback(trial, \"validation-rmse\")\n",
    "    model.fit(X_train ,y_train, eval_set=[(X_test, y_test)], early_stopping_rounds=100, verbose=False)\n",
    "    \n",
    "    preds = model.predict(X_test)\n",
    "    \n",
    "    rmspe = rmspe(y_test, preds)\n",
    "    \n",
    "    return rmspe"
   ]
  },
  {
   "cell_type": "code",
   "execution_count": 35,
   "metadata": {
    "_kg_hide-output": true,
    "execution": {
     "iopub.execute_input": "2025-10-02T14:30:16.811882Z",
     "iopub.status.busy": "2025-10-02T14:30:16.811592Z",
     "iopub.status.idle": "2025-10-02T14:31:53.715625Z",
     "shell.execute_reply": "2025-10-02T14:31:53.714002Z",
     "shell.execute_reply.started": "2025-10-02T14:30:16.811856Z"
    },
    "scrolled": true,
    "trusted": true
   },
   "outputs": [
    {
     "name": "stderr",
     "output_type": "stream",
     "text": [
      "[I 2025-10-11 15:15:52,009] A new study created in memory with name: no-name-2ae6ab22-94c3-4624-9daf-43da7a82f10d\n",
      "C:\\Users\\86138\\AppData\\Local\\Temp\\ipykernel_760\\777794544.py:13: FutureWarning: suggest_loguniform has been deprecated in v3.0.0. This feature will be removed in v6.0.0. See https://github.com/optuna/optuna/releases/tag/v3.0.0. Use suggest_float(..., log=True) instead.\n",
      "  'lambda': trial.suggest_loguniform('lambda', 1e-3, 10.0),\n",
      "C:\\Users\\86138\\AppData\\Local\\Temp\\ipykernel_760\\777794544.py:14: FutureWarning: suggest_loguniform has been deprecated in v3.0.0. This feature will be removed in v6.0.0. See https://github.com/optuna/optuna/releases/tag/v3.0.0. Use suggest_float(..., log=True) instead.\n",
      "  'alpha': trial.suggest_loguniform('alpha', 1e-3, 10.0),\n",
      "[W 2025-10-11 15:15:52,059] Trial 0 failed with parameters: {'lambda': 4.568145582546741, 'alpha': 5.0190357483915635, 'colsample_bytree': 0.3, 'subsample': 1.0, 'learning_rate': 0.016, 'n_estimators': 2375, 'max_depth': 11, 'random_state': 2020, 'min_child_weight': 144} because of the following error: TypeError(\"XGBModel.fit() got an unexpected keyword argument 'early_stopping_rounds'\").\n",
      "Traceback (most recent call last):\n",
      "  File \"g:\\anaconda\\Lib\\site-packages\\optuna\\study\\_optimize.py\", line 201, in _run_trial\n",
      "    value_or_values = func(trial)\n",
      "                      ^^^^^^^^^^^\n",
      "  File \"C:\\Users\\86138\\AppData\\Local\\Temp\\ipykernel_760\\777794544.py\", line 26, in objective\n",
      "    model.fit(X_train ,y_train, eval_set=[(X_test, y_test)], early_stopping_rounds=100, verbose=False)\n",
      "  File \"g:\\anaconda\\Lib\\site-packages\\xgboost\\core.py\", line 729, in inner_f\n",
      "    return func(**kwargs)\n",
      "           ^^^^^^^^^^^^^^\n",
      "TypeError: XGBModel.fit() got an unexpected keyword argument 'early_stopping_rounds'\n",
      "[W 2025-10-11 15:15:52,064] Trial 0 failed with value None.\n"
     ]
    },
    {
     "ename": "TypeError",
     "evalue": "XGBModel.fit() got an unexpected keyword argument 'early_stopping_rounds'",
     "output_type": "error",
     "traceback": [
      "\u001b[1;31m---------------------------------------------------------------------------\u001b[0m",
      "\u001b[1;31mTypeError\u001b[0m                                 Traceback (most recent call last)",
      "Cell \u001b[1;32mIn[35], line 2\u001b[0m\n\u001b[0;32m      1\u001b[0m study \u001b[38;5;241m=\u001b[39m optuna\u001b[38;5;241m.\u001b[39mcreate_study(sampler\u001b[38;5;241m=\u001b[39mTPESampler(), direction\u001b[38;5;241m=\u001b[39m\u001b[38;5;124m'\u001b[39m\u001b[38;5;124mminimize\u001b[39m\u001b[38;5;124m'\u001b[39m, pruner\u001b[38;5;241m=\u001b[39moptuna\u001b[38;5;241m.\u001b[39mpruners\u001b[38;5;241m.\u001b[39mMedianPruner(n_warmup_steps\u001b[38;5;241m=\u001b[39m\u001b[38;5;241m5\u001b[39m))\n\u001b[1;32m----> 2\u001b[0m study\u001b[38;5;241m.\u001b[39moptimize(objective, n_trials\u001b[38;5;241m=\u001b[39m\u001b[38;5;241m1000\u001b[39m, gc_after_trial\u001b[38;5;241m=\u001b[39m\u001b[38;5;28;01mTrue\u001b[39;00m)\n",
      "File \u001b[1;32mg:\\anaconda\\Lib\\site-packages\\optuna\\study\\study.py:490\u001b[0m, in \u001b[0;36mStudy.optimize\u001b[1;34m(self, func, n_trials, timeout, n_jobs, catch, callbacks, gc_after_trial, show_progress_bar)\u001b[0m\n\u001b[0;32m    388\u001b[0m \u001b[38;5;28;01mdef\u001b[39;00m \u001b[38;5;21moptimize\u001b[39m(\n\u001b[0;32m    389\u001b[0m     \u001b[38;5;28mself\u001b[39m,\n\u001b[0;32m    390\u001b[0m     func: ObjectiveFuncType,\n\u001b[1;32m   (...)\u001b[0m\n\u001b[0;32m    397\u001b[0m     show_progress_bar: \u001b[38;5;28mbool\u001b[39m \u001b[38;5;241m=\u001b[39m \u001b[38;5;28;01mFalse\u001b[39;00m,\n\u001b[0;32m    398\u001b[0m ) \u001b[38;5;241m-\u001b[39m\u001b[38;5;241m>\u001b[39m \u001b[38;5;28;01mNone\u001b[39;00m:\n\u001b[0;32m    399\u001b[0m \u001b[38;5;250m    \u001b[39m\u001b[38;5;124;03m\"\"\"Optimize an objective function.\u001b[39;00m\n\u001b[0;32m    400\u001b[0m \n\u001b[0;32m    401\u001b[0m \u001b[38;5;124;03m    Optimization is done by choosing a suitable set of hyperparameter values from a given\u001b[39;00m\n\u001b[1;32m   (...)\u001b[0m\n\u001b[0;32m    488\u001b[0m \u001b[38;5;124;03m            If nested invocation of this method occurs.\u001b[39;00m\n\u001b[0;32m    489\u001b[0m \u001b[38;5;124;03m    \"\"\"\u001b[39;00m\n\u001b[1;32m--> 490\u001b[0m     _optimize(\n\u001b[0;32m    491\u001b[0m         study\u001b[38;5;241m=\u001b[39m\u001b[38;5;28mself\u001b[39m,\n\u001b[0;32m    492\u001b[0m         func\u001b[38;5;241m=\u001b[39mfunc,\n\u001b[0;32m    493\u001b[0m         n_trials\u001b[38;5;241m=\u001b[39mn_trials,\n\u001b[0;32m    494\u001b[0m         timeout\u001b[38;5;241m=\u001b[39mtimeout,\n\u001b[0;32m    495\u001b[0m         n_jobs\u001b[38;5;241m=\u001b[39mn_jobs,\n\u001b[0;32m    496\u001b[0m         catch\u001b[38;5;241m=\u001b[39m\u001b[38;5;28mtuple\u001b[39m(catch) \u001b[38;5;28;01mif\u001b[39;00m \u001b[38;5;28misinstance\u001b[39m(catch, Iterable) \u001b[38;5;28;01melse\u001b[39;00m (catch,),\n\u001b[0;32m    497\u001b[0m         callbacks\u001b[38;5;241m=\u001b[39mcallbacks,\n\u001b[0;32m    498\u001b[0m         gc_after_trial\u001b[38;5;241m=\u001b[39mgc_after_trial,\n\u001b[0;32m    499\u001b[0m         show_progress_bar\u001b[38;5;241m=\u001b[39mshow_progress_bar,\n\u001b[0;32m    500\u001b[0m     )\n",
      "File \u001b[1;32mg:\\anaconda\\Lib\\site-packages\\optuna\\study\\_optimize.py:63\u001b[0m, in \u001b[0;36m_optimize\u001b[1;34m(study, func, n_trials, timeout, n_jobs, catch, callbacks, gc_after_trial, show_progress_bar)\u001b[0m\n\u001b[0;32m     61\u001b[0m \u001b[38;5;28;01mtry\u001b[39;00m:\n\u001b[0;32m     62\u001b[0m     \u001b[38;5;28;01mif\u001b[39;00m n_jobs \u001b[38;5;241m==\u001b[39m \u001b[38;5;241m1\u001b[39m:\n\u001b[1;32m---> 63\u001b[0m         _optimize_sequential(\n\u001b[0;32m     64\u001b[0m             study,\n\u001b[0;32m     65\u001b[0m             func,\n\u001b[0;32m     66\u001b[0m             n_trials,\n\u001b[0;32m     67\u001b[0m             timeout,\n\u001b[0;32m     68\u001b[0m             catch,\n\u001b[0;32m     69\u001b[0m             callbacks,\n\u001b[0;32m     70\u001b[0m             gc_after_trial,\n\u001b[0;32m     71\u001b[0m             reseed_sampler_rng\u001b[38;5;241m=\u001b[39m\u001b[38;5;28;01mFalse\u001b[39;00m,\n\u001b[0;32m     72\u001b[0m             time_start\u001b[38;5;241m=\u001b[39m\u001b[38;5;28;01mNone\u001b[39;00m,\n\u001b[0;32m     73\u001b[0m             progress_bar\u001b[38;5;241m=\u001b[39mprogress_bar,\n\u001b[0;32m     74\u001b[0m         )\n\u001b[0;32m     75\u001b[0m     \u001b[38;5;28;01melse\u001b[39;00m:\n\u001b[0;32m     76\u001b[0m         \u001b[38;5;28;01mif\u001b[39;00m n_jobs \u001b[38;5;241m==\u001b[39m \u001b[38;5;241m-\u001b[39m\u001b[38;5;241m1\u001b[39m:\n",
      "File \u001b[1;32mg:\\anaconda\\Lib\\site-packages\\optuna\\study\\_optimize.py:160\u001b[0m, in \u001b[0;36m_optimize_sequential\u001b[1;34m(study, func, n_trials, timeout, catch, callbacks, gc_after_trial, reseed_sampler_rng, time_start, progress_bar)\u001b[0m\n\u001b[0;32m    157\u001b[0m         \u001b[38;5;28;01mbreak\u001b[39;00m\n\u001b[0;32m    159\u001b[0m \u001b[38;5;28;01mtry\u001b[39;00m:\n\u001b[1;32m--> 160\u001b[0m     frozen_trial_id \u001b[38;5;241m=\u001b[39m _run_trial(study, func, catch)\n\u001b[0;32m    161\u001b[0m \u001b[38;5;28;01mfinally\u001b[39;00m:\n\u001b[0;32m    162\u001b[0m     \u001b[38;5;66;03m# The following line mitigates memory problems that can be occurred in some\u001b[39;00m\n\u001b[0;32m    163\u001b[0m     \u001b[38;5;66;03m# environments (e.g., services that use computing containers such as GitHub Actions).\u001b[39;00m\n\u001b[0;32m    164\u001b[0m     \u001b[38;5;66;03m# Please refer to the following PR for further details:\u001b[39;00m\n\u001b[0;32m    165\u001b[0m     \u001b[38;5;66;03m# https://github.com/optuna/optuna/pull/325.\u001b[39;00m\n\u001b[0;32m    166\u001b[0m     \u001b[38;5;28;01mif\u001b[39;00m gc_after_trial:\n",
      "File \u001b[1;32mg:\\anaconda\\Lib\\site-packages\\optuna\\study\\_optimize.py:258\u001b[0m, in \u001b[0;36m_run_trial\u001b[1;34m(study, func, catch)\u001b[0m\n\u001b[0;32m    251\u001b[0m         \u001b[38;5;28;01massert\u001b[39;00m \u001b[38;5;28;01mFalse\u001b[39;00m, \u001b[38;5;124m\"\u001b[39m\u001b[38;5;124mShould not reach.\u001b[39m\u001b[38;5;124m\"\u001b[39m\n\u001b[0;32m    253\u001b[0m \u001b[38;5;28;01mif\u001b[39;00m (\n\u001b[0;32m    254\u001b[0m     updated_state \u001b[38;5;241m==\u001b[39m TrialState\u001b[38;5;241m.\u001b[39mFAIL\n\u001b[0;32m    255\u001b[0m     \u001b[38;5;129;01mand\u001b[39;00m func_err \u001b[38;5;129;01mis\u001b[39;00m \u001b[38;5;129;01mnot\u001b[39;00m \u001b[38;5;28;01mNone\u001b[39;00m\n\u001b[0;32m    256\u001b[0m     \u001b[38;5;129;01mand\u001b[39;00m \u001b[38;5;129;01mnot\u001b[39;00m \u001b[38;5;28misinstance\u001b[39m(func_err, catch)\n\u001b[0;32m    257\u001b[0m ):\n\u001b[1;32m--> 258\u001b[0m     \u001b[38;5;28;01mraise\u001b[39;00m func_err\n\u001b[0;32m    259\u001b[0m \u001b[38;5;28;01mreturn\u001b[39;00m trial\u001b[38;5;241m.\u001b[39m_trial_id\n",
      "File \u001b[1;32mg:\\anaconda\\Lib\\site-packages\\optuna\\study\\_optimize.py:201\u001b[0m, in \u001b[0;36m_run_trial\u001b[1;34m(study, func, catch)\u001b[0m\n\u001b[0;32m    199\u001b[0m \u001b[38;5;28;01mwith\u001b[39;00m get_heartbeat_thread(trial\u001b[38;5;241m.\u001b[39m_trial_id, study\u001b[38;5;241m.\u001b[39m_storage):\n\u001b[0;32m    200\u001b[0m     \u001b[38;5;28;01mtry\u001b[39;00m:\n\u001b[1;32m--> 201\u001b[0m         value_or_values \u001b[38;5;241m=\u001b[39m func(trial)\n\u001b[0;32m    202\u001b[0m     \u001b[38;5;28;01mexcept\u001b[39;00m exceptions\u001b[38;5;241m.\u001b[39mTrialPruned \u001b[38;5;28;01mas\u001b[39;00m e:\n\u001b[0;32m    203\u001b[0m         \u001b[38;5;66;03m# TODO(mamu): Handle multi-objective cases.\u001b[39;00m\n\u001b[0;32m    204\u001b[0m         state \u001b[38;5;241m=\u001b[39m TrialState\u001b[38;5;241m.\u001b[39mPRUNED\n",
      "Cell \u001b[1;32mIn[34], line 26\u001b[0m, in \u001b[0;36mobjective\u001b[1;34m(trial, data, target)\u001b[0m\n\u001b[0;32m     23\u001b[0m model \u001b[38;5;241m=\u001b[39m XGBRegressor(\u001b[38;5;241m*\u001b[39m\u001b[38;5;241m*\u001b[39mparam)\n\u001b[0;32m     25\u001b[0m pruning_callback \u001b[38;5;241m=\u001b[39m optuna\u001b[38;5;241m.\u001b[39mintegration\u001b[38;5;241m.\u001b[39mXGBoostPruningCallback(trial, \u001b[38;5;124m\"\u001b[39m\u001b[38;5;124mvalidation-rmse\u001b[39m\u001b[38;5;124m\"\u001b[39m)\n\u001b[1;32m---> 26\u001b[0m model\u001b[38;5;241m.\u001b[39mfit(X_train ,y_train, eval_set\u001b[38;5;241m=\u001b[39m[(X_test, y_test)], early_stopping_rounds\u001b[38;5;241m=\u001b[39m\u001b[38;5;241m100\u001b[39m, verbose\u001b[38;5;241m=\u001b[39m\u001b[38;5;28;01mFalse\u001b[39;00m)\n\u001b[0;32m     28\u001b[0m preds \u001b[38;5;241m=\u001b[39m model\u001b[38;5;241m.\u001b[39mpredict(X_test)\n\u001b[0;32m     30\u001b[0m rmspe \u001b[38;5;241m=\u001b[39m rmspe(y_test, preds)\n",
      "File \u001b[1;32mg:\\anaconda\\Lib\\site-packages\\xgboost\\core.py:729\u001b[0m, in \u001b[0;36mrequire_keyword_args.<locals>.throw_if.<locals>.inner_f\u001b[1;34m(*args, **kwargs)\u001b[0m\n\u001b[0;32m    727\u001b[0m \u001b[38;5;28;01mfor\u001b[39;00m k, arg \u001b[38;5;129;01min\u001b[39;00m \u001b[38;5;28mzip\u001b[39m(sig\u001b[38;5;241m.\u001b[39mparameters, args):\n\u001b[0;32m    728\u001b[0m     kwargs[k] \u001b[38;5;241m=\u001b[39m arg\n\u001b[1;32m--> 729\u001b[0m \u001b[38;5;28;01mreturn\u001b[39;00m func(\u001b[38;5;241m*\u001b[39m\u001b[38;5;241m*\u001b[39mkwargs)\n",
      "\u001b[1;31mTypeError\u001b[0m: XGBModel.fit() got an unexpected keyword argument 'early_stopping_rounds'"
     ]
    }
   ],
   "source": [
    "study = optuna.create_study(sampler=TPESampler(), direction='minimize', pruner=optuna.pruners.MedianPruner(n_warmup_steps=5))\n",
    "study.optimize(objective, n_trials=1000, gc_after_trial=True)"
   ]
  },
  {
   "cell_type": "code",
   "execution_count": null,
   "metadata": {
    "execution": {
     "iopub.status.busy": "2025-10-02T14:29:16.999028Z",
     "iopub.status.idle": "2025-10-02T14:29:16.999550Z",
     "shell.execute_reply": "2025-10-02T14:29:16.999282Z"
    },
    "trusted": true
   },
   "outputs": [],
   "source": [
    "print('Number of finished trials:', len(study.trials))\n",
    "print('Best trial:', study.best_trial.params)"
   ]
  },
  {
   "cell_type": "code",
   "execution_count": null,
   "metadata": {
    "execution": {
     "iopub.status.busy": "2025-10-02T14:29:17.000460Z",
     "iopub.status.idle": "2025-10-02T14:29:17.000950Z",
     "shell.execute_reply": "2025-10-02T14:29:17.000705Z"
    },
    "trusted": true
   },
   "outputs": [],
   "source": [
    "optuna.visualization.plot_optimization_history(study)"
   ]
  },
  {
   "cell_type": "code",
   "execution_count": null,
   "metadata": {
    "execution": {
     "iopub.status.busy": "2025-10-02T14:29:17.002045Z",
     "iopub.status.idle": "2025-10-02T14:29:17.002559Z",
     "shell.execute_reply": "2025-10-02T14:29:17.002293Z"
    },
    "trusted": true
   },
   "outputs": [],
   "source": [
    "optuna.visualization.plot_param_importances(study)"
   ]
  },
  {
   "cell_type": "code",
   "execution_count": null,
   "metadata": {
    "execution": {
     "iopub.status.busy": "2025-10-02T14:29:17.003552Z",
     "iopub.status.idle": "2025-10-02T14:29:17.004074Z",
     "shell.execute_reply": "2025-10-02T14:29:17.003807Z"
    },
    "trusted": true
   },
   "outputs": [],
   "source": [
    "best_xgbparams = study.best_params\n",
    "best_xgbparams"
   ]
  },
  {
   "cell_type": "code",
   "execution_count": null,
   "metadata": {
    "execution": {
     "iopub.status.busy": "2025-10-02T14:29:17.004957Z",
     "iopub.status.idle": "2025-10-02T14:29:17.005490Z",
     "shell.execute_reply": "2025-10-02T14:29:17.005228Z"
    },
    "trusted": true
   },
   "outputs": [],
   "source": [
    "xgb = XGBRegressor(**best_xgbparams, tree_method='gpu_hist')"
   ]
  },
  {
   "cell_type": "code",
   "execution_count": null,
   "metadata": {
    "execution": {
     "iopub.status.busy": "2025-10-02T14:29:17.006465Z",
     "iopub.status.idle": "2025-10-02T14:29:17.006972Z",
     "shell.execute_reply": "2025-10-02T14:29:17.006726Z"
    },
    "trusted": true
   },
   "outputs": [],
   "source": [
    "%%time\n",
    "xgb.fit(X_train ,y_train, eval_set=[(X_test, y_test)], early_stopping_rounds=100, verbose=False)\n",
    "\n",
    "preds = xgb.predict(X_test)\n",
    "R2 = round(r2_score(y_true = y_test, y_pred = preds), 5)\n",
    "RMSPE = round(rmspe(y_true = y_test, y_pred = preds), 5)\n",
    "print(f'Performance of the Tuned XGB prediction: R2 score: {R2}, RMSPE: {RMSPE}')"
   ]
  },
  {
   "cell_type": "code",
   "execution_count": null,
   "metadata": {
    "execution": {
     "iopub.execute_input": "2025-10-02T14:36:57.731103Z",
     "iopub.status.busy": "2025-10-02T14:36:57.730800Z",
     "iopub.status.idle": "2025-10-02T14:36:57.738524Z",
     "shell.execute_reply": "2025-10-02T14:36:57.737678Z",
     "shell.execute_reply.started": "2025-10-02T14:36:57.731075Z"
    },
    "trusted": true
   },
   "outputs": [],
   "source": [
    "def objective(trial):\n",
    "    \n",
    "    def rmspe(y_true, y_pred):\n",
    "        return  (np.sqrt(np.mean(np.square((y_true - y_pred) / y_true))))\n",
    "    \n",
    "    X_train, X_test, y_train, y_test = train_test_split(X, y, test_size=0.2, random_state=rs, shuffle=False)\n",
    "    valid = [(X_test, y_test)]\n",
    "    \n",
    "    param = {\n",
    "        \"device\": \"gpu\",\n",
    "        \"metric\": \"rmse\",\n",
    "        \"verbosity\": -1,\n",
    "        'learning_rate':trial.suggest_loguniform('learning_rate', 0.005, 0.5),\n",
    "        \"max_depth\": trial.suggest_int(\"max_depth\", 2, 500),\n",
    "        \"lambda_l1\": trial.suggest_float(\"lambda_l1\", 1e-8, 10.0, log=True),\n",
    "        \"lambda_l2\": trial.suggest_float(\"lambda_l2\", 1e-8, 10.0, log=True),\n",
    "        \"num_leaves\": trial.suggest_int(\"num_leaves\", 2, 256),\n",
    "        \"n_estimators\": trial.suggest_int(\"n_estimators\", 100, 4000),\n",
    "#         \"min_data_in_leaf\": trial.suggest_int(\"min_data_in_leaf\", 100000, 700000),\n",
    "        \"feature_fraction\": trial.suggest_float(\"feature_fraction\", 0.4, 1.0),\n",
    "        \"bagging_fraction\": trial.suggest_float(\"bagging_fraction\", 0.4, 1.0),\n",
    "        \"bagging_freq\": trial.suggest_int(\"bagging_freq\", 1, 7),\n",
    "        \"min_child_samples\": trial.suggest_int(\"min_child_samples\", 5, 100)}\n",
    "\n",
    "    pruning_callback = optuna.integration.LightGBMPruningCallback(trial, \"rmse\")\n",
    "    model = LGBMRegressor(**param)\n",
    "    \n",
    "    model.fit(X_train, y_train, eval_set=valid, verbose=False, callbacks=[pruning_callback], early_stopping_rounds=100)\n",
    "\n",
    "    preds = model.predict(X_test)\n",
    "    \n",
    "    rmspe = rmspe(y_test, preds)\n",
    "    return rmspe"
   ]
  },
  {
   "cell_type": "code",
   "execution_count": null,
   "metadata": {
    "_kg_hide-output": true,
    "execution": {
     "iopub.status.busy": "2025-10-02T14:29:17.009530Z",
     "iopub.status.idle": "2025-10-02T14:29:17.010042Z",
     "shell.execute_reply": "2025-10-02T14:29:17.009774Z"
    },
    "scrolled": true,
    "trusted": true
   },
   "outputs": [],
   "source": [
    "study = optuna.create_study(sampler=TPESampler(), direction='minimize', pruner=optuna.pruners.MedianPruner(n_warmup_steps=5))\n",
    "study.optimize(objective, n_trials=1000, gc_after_trial=True)"
   ]
  },
  {
   "cell_type": "code",
   "execution_count": null,
   "metadata": {
    "execution": {
     "iopub.status.busy": "2025-10-02T14:29:17.011103Z",
     "iopub.status.idle": "2025-10-02T14:29:17.011606Z",
     "shell.execute_reply": "2025-10-02T14:29:17.011348Z"
    },
    "trusted": true
   },
   "outputs": [],
   "source": [
    "print('Number of finished trials:', len(study.trials))\n",
    "print('Best trial:', study.best_trial.params)"
   ]
  },
  {
   "cell_type": "code",
   "execution_count": null,
   "metadata": {
    "execution": {
     "iopub.status.busy": "2025-10-02T14:29:17.012611Z",
     "iopub.status.idle": "2025-10-02T14:29:17.013143Z",
     "shell.execute_reply": "2025-10-02T14:29:17.012863Z"
    },
    "trusted": true
   },
   "outputs": [],
   "source": [
    "optuna.visualization.plot_optimization_history(study)"
   ]
  },
  {
   "cell_type": "code",
   "execution_count": null,
   "metadata": {
    "execution": {
     "iopub.status.busy": "2025-10-02T14:29:17.014196Z",
     "iopub.status.idle": "2025-10-02T14:29:17.014713Z",
     "shell.execute_reply": "2025-10-02T14:29:17.014460Z"
    },
    "trusted": true
   },
   "outputs": [],
   "source": [
    "optuna.visualization.plot_param_importances(study)"
   ]
  },
  {
   "cell_type": "code",
   "execution_count": null,
   "metadata": {
    "execution": {
     "iopub.status.busy": "2025-10-02T14:29:17.015679Z",
     "iopub.status.idle": "2025-10-02T14:29:17.016192Z",
     "shell.execute_reply": "2025-10-02T14:29:17.015924Z"
    },
    "trusted": true
   },
   "outputs": [],
   "source": [
    "best_lgbmparams = study.best_params\n",
    "best_lgbmparams"
   ]
  },
  {
   "cell_type": "code",
   "execution_count": null,
   "metadata": {
    "execution": {
     "iopub.status.busy": "2025-10-02T14:29:17.017107Z",
     "iopub.status.idle": "2025-10-02T14:29:17.017973Z",
     "shell.execute_reply": "2025-10-02T14:29:17.017721Z"
    },
    "trusted": true
   },
   "outputs": [],
   "source": [
    "lgbm = LGBMRegressor(**best_lgbmparams, device='gpu')"
   ]
  },
  {
   "cell_type": "code",
   "execution_count": null,
   "metadata": {
    "execution": {
     "iopub.status.busy": "2025-10-02T14:29:17.018949Z",
     "iopub.status.idle": "2025-10-02T14:29:17.019361Z",
     "shell.execute_reply": "2025-10-02T14:29:17.019193Z"
    },
    "trusted": true
   },
   "outputs": [],
   "source": [
    "%%time\n",
    "lgbm.fit(X_train, y_train, eval_set=[(X_test, y_test)], verbose=False, early_stopping_rounds=100)\n",
    "\n",
    "preds = xgb.predict(X_test)\n",
    "R2 = round(r2_score(y_true = y_test, y_pred = preds), 6)\n",
    "RMSPE = round(rmspe(y_true = y_test, y_pred = preds), 6)\n",
    "print(f'Performance of the Tuned LIGHTGBM prediction: R2 score: {R2}, RMSPE: {RMSPE}')"
   ]
  },
  {
   "cell_type": "code",
   "execution_count": null,
   "metadata": {
    "execution": {
     "iopub.status.busy": "2025-10-02T14:29:17.020188Z",
     "iopub.status.idle": "2025-10-02T14:29:17.020599Z",
     "shell.execute_reply": "2025-10-02T14:29:17.020384Z"
    },
    "trusted": true
   },
   "outputs": [],
   "source": [
    "def_xgb = XGBRegressor(tree_method='gpu_hist', random_state = rs, n_jobs= - 1)\n",
    "\n",
    "def_lgbm = LGBMRegressor(device='gpu', random_state=rs)"
   ]
  },
  {
   "cell_type": "code",
   "execution_count": null,
   "metadata": {
    "execution": {
     "iopub.status.busy": "2025-10-02T14:29:17.021431Z",
     "iopub.status.idle": "2025-10-02T14:29:17.021793Z",
     "shell.execute_reply": "2025-10-02T14:29:17.021603Z"
    },
    "trusted": true
   },
   "outputs": [],
   "source": [
    "from sklearn.ensemble import StackingRegressor\n",
    "\n",
    "\n",
    "estimators = [('def_xgb', def_xgb),\n",
    "              ('def_lgbm', def_lgbm),\n",
    "              ('tuned_xgb', xgb)]\n",
    "\n",
    "clf = StackingRegressor(estimators=estimators, final_estimator=lgbm, verbose=1)"
   ]
  },
  {
   "cell_type": "code",
   "execution_count": null,
   "metadata": {
    "_kg_hide-output": true,
    "execution": {
     "iopub.status.busy": "2025-10-02T14:29:17.022575Z",
     "iopub.status.idle": "2025-10-02T14:29:17.022868Z",
     "shell.execute_reply": "2025-10-02T14:29:17.022730Z"
    },
    "scrolled": true,
    "trusted": true
   },
   "outputs": [],
   "source": [
    "%%time\n",
    "clf.fit(X_train, y_train)"
   ]
  },
  {
   "cell_type": "code",
   "execution_count": null,
   "metadata": {
    "execution": {
     "iopub.status.busy": "2025-10-02T14:29:17.023653Z",
     "iopub.status.idle": "2025-10-02T14:29:17.024034Z",
     "shell.execute_reply": "2025-10-02T14:29:17.023854Z"
    },
    "trusted": true
   },
   "outputs": [],
   "source": [
    "preds = clf.predict(X_test)\n",
    "R2 = round(r2_score(y_true = y_test, y_pred = preds),6)\n",
    "RMSPE = round(rmspe(y_true = y_test, y_pred = preds), 6)\n",
    "print(f'Performance of the STACK prediction: R2 score: {R2}, RMSPE: {RMSPE}')"
   ]
  },
  {
   "cell_type": "code",
   "execution_count": 36,
   "metadata": {
    "execution": {
     "iopub.execute_input": "2025-10-02T14:37:43.313981Z",
     "iopub.status.busy": "2025-10-02T14:37:43.313700Z",
     "iopub.status.idle": "2025-10-02T14:37:43.393194Z",
     "shell.execute_reply": "2025-10-02T14:37:43.390655Z",
     "shell.execute_reply.started": "2025-10-02T14:37:43.313957Z"
    },
    "jupyter": {
     "source_hidden": true
    },
    "trusted": true
   },
   "outputs": [
    {
     "name": "stdout",
     "output_type": "stream",
     "text": [
      "Performance of the Linear prediction: R2 score: 0.766992, RMSPE: 0.303391\n"
     ]
    }
   ],
   "source": [
    "from sklearn.linear_model import LinearRegression\n",
    "Lin = LinearRegression()\n",
    "Lin.fit(X_train, y_train)\n",
    "preds = Lin.predict(X_test)\n",
    "R2 = round(r2_score(y_true = y_test, y_pred = preds),6)\n",
    "RMSPE = round(rmspe(y_true = y_test, y_pred = preds), 6)\n",
    "print(f'Performance of the Linear prediction: R2 score: {R2}, RMSPE: {RMSPE}')"
   ]
  },
  {
   "cell_type": "code",
   "execution_count": null,
   "metadata": {},
   "outputs": [
    {
     "name": "stdout",
     "output_type": "stream",
     "text": [
      "Performance of the Decision Tree prediction: R2 score: 0.714459, RMSPE: 0.335916\n"
     ]
    }
   ],
   "source": [
    "from sklearn.tree import DecisionTreeRegressor\n",
    "from sklearn.metrics import r2_score\n",
    "\n",
    "# dt = DecisionTreeRegressor(random_state=42)\n",
    "dt = DecisionTreeRegressor(\n",
    "    max_depth=4,      \n",
    "    random_state=42\n",
    ")\n",
    "dt.fit(X_train, y_train)\n",
    "preds = dt.predict(X_test)\n",
    "R2 = round(r2_score(y_true=y_test, y_pred=preds), 6)\n",
    "RMSPE = round(rmspe(y_true=y_test, y_pred=preds), 6)\n",
    "print(f'Performance of the Decision Tree prediction: R2 score: {R2}, RMSPE: {RMSPE}')"
   ]
  },
  {
   "cell_type": "code",
   "execution_count": null,
   "metadata": {},
   "outputs": [
    {
     "name": "stdout",
     "output_type": "stream",
     "text": [
      "Performance of Bagging Linear Regression: R2 score: 0.774107, RMSPE: 0.302201\n"
     ]
    }
   ],
   "source": [
    "from sklearn.linear_model import LinearRegression\n",
    "from sklearn.ensemble import BaggingRegressor\n",
    "from sklearn.metrics import r2_score\n",
    "from sklearn.utils import shuffle\n",
    "\n",
    "bagging_lin = BaggingRegressor(\n",
    "    estimator=DecisionTreeRegressor(),\n",
    "    n_estimators=30, \n",
    "    random_state=42,\n",
    "    n_jobs=-1,\n",
    ")\n",
    "\n",
    "bagging_lin.fit(X_train, y_train)\n",
    "preds = bagging_lin.predict(X_test)\n",
    "R2 = round(r2_score(y_true=y_test, y_pred=preds), 6)\n",
    "RMSPE = round(rmspe(y_true=y_test, y_pred=preds), 6)\n",
    "print(f'Performance of Bagging Linear Regression: R2 score: {R2}, RMSPE: {RMSPE}')"
   ]
  },
  {
   "cell_type": "code",
   "execution_count": null,
   "metadata": {
    "execution": {
     "iopub.execute_input": "2025-10-02T14:42:33.128537Z",
     "iopub.status.busy": "2025-10-02T14:42:33.128229Z",
     "iopub.status.idle": "2025-10-02T14:43:21.729243Z",
     "shell.execute_reply": "2025-10-02T14:43:21.728371Z",
     "shell.execute_reply.started": "2025-10-02T14:42:33.128503Z"
    },
    "jupyter": {
     "source_hidden": true
    },
    "trusted": true
   },
   "outputs": [
    {
     "name": "stdout",
     "output_type": "stream",
     "text": [
      "Performance of the Random Forest prediction: R2 score: 0.772598, RMSPE: 0.30172\n"
     ]
    }
   ],
   "source": [
    "from sklearn.ensemble import RandomForestRegressor\n",
    "RF = RandomForestRegressor(n_jobs=-1, n_estimators=30)\n",
    "RF.fit(X_train, y_train)\n",
    "preds = RF.predict(X_test)\n",
    "R2 = round(r2_score(y_true = y_test, y_pred = preds),6)\n",
    "RMSPE = round(rmspe(y_true = y_test, y_pred = preds), 6)\n",
    "print(f'Performance of the Random Forest prediction: R2 score: {R2}, RMSPE: {RMSPE}')"
   ]
  },
  {
   "cell_type": "code",
   "execution_count": null,
   "metadata": {},
   "outputs": [
    {
     "name": "stdout",
     "output_type": "stream",
     "text": [
      "Training Linear...\n",
      "Linear completed in 0.11 seconds\n",
      "Training Bagging...\n",
      "Bagging completed in 121.42 seconds\n",
      "Training RandomForest...\n",
      "RandomForest completed in 34.06 seconds\n",
      "\n",
      "================================================================================\n",
      "MODEL COMPARISON RESULTS\n",
      "================================================================================\n",
      "       Model     R2   RMSE  RMSPE  Training_Time  CV_Mean_R2  CV_Std  Overfitting_Gap\n",
      "      Linear 0.7670 0.0013 0.3034           0.11      0.7616  0.0038           0.0005\n",
      "     Bagging 0.7636 0.0014 0.3135         121.42      0.7675  0.0062           0.0110\n",
      "RandomForest 0.7680 0.0013 0.3299          34.06      0.7685  0.0071           0.0085\n",
      "\n",
      "==================================================\n",
      "PERFORMANCE RANKINGS\n",
      "==================================================\n",
      "R2 Score Ranking:\n",
      "1. RandomForest: 0.768\n",
      "2. Linear: 0.767\n",
      "3. Bagging: 0.7636\n",
      "\n",
      "RMSPE Ranking (lower is better):\n",
      "1. Linear: 0.3034\n",
      "2. Bagging: 0.3135\n",
      "3. RandomForest: 0.3299\n",
      "\n",
      "Stability Ranking (CV Std, lower is better):\n",
      "1. Linear: 0.0038\n",
      "2. Bagging: 0.0062\n",
      "3. RandomForest: 0.0071\n",
      "\n",
      "Overfitting Resistance Ranking (gap, lower is better):\n",
      "1. Linear: 0.0005\n",
      "2. RandomForest: 0.0085\n",
      "3. Bagging: 0.011\n",
      "\n",
      "==================================================\n",
      "COMPREHENSIVE ANALYSIS\n",
      "==================================================\n",
      "Best R2: RandomForest (0.768)\n",
      "Best RMSPE: Linear (0.3034)\n",
      "Fastest Training: Linear (0.11s)\n",
      "Most Stable: Linear (CV Std: 0.0038)\n",
      "Least Overfitting: Linear (Gap: 0.0005)\n",
      "\n",
      "==================================================\n",
      "VALIDATION OF TABLE CHARACTERISTICS\n",
      "==================================================\n",
      "Noise Sensitivity (based on CV stability):\n",
      "- Linear: Low\n",
      "- Bagging: Low\n",
      "- RandomForest: Low\n",
      "\n",
      "Overfitting Risk:\n",
      "- Linear: Low\n",
      "- RandomForest: Low\n",
      "- Bagging: Low\n"
     ]
    }
   ],
   "source": [
    "import numpy as np\n",
    "import pandas as pd\n",
    "import time\n",
    "from sklearn.ensemble import AdaBoostRegressor, BaggingRegressor, RandomForestRegressor\n",
    "from sklearn.tree import DecisionTreeRegressor\n",
    "from sklearn.linear_model import LinearRegression\n",
    "from sklearn.metrics import r2_score, mean_squared_error\n",
    "from sklearn.model_selection import cross_val_score\n",
    "import warnings\n",
    "warnings.filterwarnings('ignore')\n",
    "\n",
    "models = {\n",
    "    # 'AdaBoost': AdaBoostRegressor(\n",
    "    #     estimator=DecisionTreeRegressor(max_depth=4, random_state=42),\n",
    "    #     n_estimators=100,\n",
    "    #     learning_rate=0.1,\n",
    "    #     random_state=42\n",
    "    # ),\n",
    "    'Linear': LinearRegression(\n",
    "    ),\n",
    "    'Bagging': BaggingRegressor(\n",
    "        estimator=DecisionTreeRegressor(max_depth=4, random_state=42),\n",
    "        n_estimators=100,\n",
    "        max_samples=0.8,\n",
    "        max_features=0.8,\n",
    "        random_state=42\n",
    "    ),\n",
    "    'RandomForest': RandomForestRegressor(\n",
    "        n_estimators=100,\n",
    "        max_depth=4,\n",
    "        # max_features='sqrt', \n",
    "        random_state=42\n",
    "    )\n",
    "}\n",
    "\n",
    "\n",
    "results = []\n",
    "\n",
    "for name, model in models.items():\n",
    "    print(f\"Training {name}...\")\n",
    "    \n",
    "    start_time = time.time()\n",
    "    model.fit(X_train, y_train)\n",
    "    training_time = time.time() - start_time\n",
    "    \n",
    "    y_pred = model.predict(X_test)\n",
    "   \n",
    "    r2 = r2_score(y_test, y_pred)\n",
    "    rmse = np.sqrt(mean_squared_error(y_test, y_pred))\n",
    "    rmspe_val = rmspe(y_test, y_pred)\n",
    "    \n",
    "    cv_scores = cross_val_score(model, X_train, y_train, cv=5, scoring='r2')\n",
    "    cv_mean = cv_scores.mean()\n",
    "    cv_std = cv_scores.std()\n",
    "    \n",
    "    y_train_pred = model.predict(X_train)\n",
    "    train_r2 = r2_score(y_train, y_train_pred)\n",
    "    overfitting_gap = train_r2 - r2\n",
    "    \n",
    "\n",
    "    results.append({\n",
    "        'Model': name,\n",
    "        'R2': round(r2, 4),\n",
    "        'RMSE': round(rmse, 4),\n",
    "        'RMSPE': round(rmspe_val, 4),\n",
    "        'Training_Time': round(training_time, 2),\n",
    "        'CV_Mean_R2': round(cv_mean, 4),\n",
    "        'CV_Std': round(cv_std, 4),\n",
    "        'Overfitting_Gap': round(overfitting_gap, 4)\n",
    "    })\n",
    "    \n",
    "    print(f\"{name} completed in {training_time:.2f} seconds\")\n",
    "\n",
    "results_df = pd.DataFrame(results)\n",
    "print(\"\\n\" + \"=\"*80)\n",
    "print(\"MODEL COMPARISON RESULTS\")\n",
    "print(\"=\"*80)\n",
    "print(results_df.to_string(index=False))\n",
    "\n",
    "print(\"\\n\" + \"=\"*50)\n",
    "print(\"PERFORMANCE RANKINGS\")\n",
    "print(\"=\"*50)\n",
    "\n",
    "r2_rank = results_df[['Model', 'R2']].sort_values('R2', ascending=False)\n",
    "print(\"R2 Score Ranking:\")\n",
    "for i, (_, row) in enumerate(r2_rank.iterrows(), 1):\n",
    "    print(f\"{i}. {row['Model']}: {row['R2']}\")\n",
    "\n",
    "rmspe_rank = results_df[['Model', 'RMSPE']].sort_values('RMSPE')\n",
    "print(\"\\nRMSPE Ranking (lower is better):\")\n",
    "for i, (_, row) in enumerate(rmspe_rank.iterrows(), 1):\n",
    "    print(f\"{i}. {row['Model']}: {row['RMSPE']}\")\n",
    "\n",
    "\n",
    "stability_rank = results_df[['Model', 'CV_Std']].sort_values('CV_Std')\n",
    "print(\"\\nStability Ranking (CV Std, lower is better):\")\n",
    "for i, (_, row) in enumerate(stability_rank.iterrows(), 1):\n",
    "    print(f\"{i}. {row['Model']}: {row['CV_Std']}\")\n",
    "\n",
    "\n",
    "overfit_rank = results_df[['Model', 'Overfitting_Gap']].sort_values('Overfitting_Gap')\n",
    "print(\"\\nOverfitting Resistance Ranking (gap, lower is better):\")\n",
    "for i, (_, row) in enumerate(overfit_rank.iterrows(), 1):\n",
    "    print(f\"{i}. {row['Model']}: {row['Overfitting_Gap']}\")\n",
    "\n",
    "print(\"\\n\" + \"=\"*50)\n",
    "print(\"COMPREHENSIVE ANALYSIS\")\n",
    "print(\"=\"*50)\n",
    "\n",
    "best_r2_model = results_df.loc[results_df['R2'].idxmax()]\n",
    "best_rmspe_model = results_df.loc[results_df['RMSPE'].idxmin()]\n",
    "fastest_model = results_df.loc[results_df['Training_Time'].idxmin()]\n",
    "most_stable_model = results_df.loc[results_df['CV_Std'].idxmin()]\n",
    "least_overfitting_model = results_df.loc[results_df['Overfitting_Gap'].idxmin()]\n",
    "\n",
    "print(f\"Best R2: {best_r2_model['Model']} ({best_r2_model['R2']})\")\n",
    "print(f\"Best RMSPE: {best_rmspe_model['Model']} ({best_rmspe_model['RMSPE']})\")\n",
    "print(f\"Fastest Training: {fastest_model['Model']} ({fastest_model['Training_Time']}s)\")\n",
    "print(f\"Most Stable: {most_stable_model['Model']} (CV Std: {most_stable_model['CV_Std']})\")\n",
    "print(f\"Least Overfitting: {least_overfitting_model['Model']} (Gap: {least_overfitting_model['Overfitting_Gap']})\")\n",
    "\n",
    "print(\"\\n\" + \"=\"*50)\n",
    "print(\"VALIDATION OF TABLE CHARACTERISTICS\")\n",
    "print(\"=\"*50)\n",
    "\n",
    "print(\"Noise Sensitivity (based on CV stability):\")\n",
    "for _, row in stability_rank.iterrows():\n",
    "    sensitivity = \"Low\" if row['CV_Std'] < 0.05 else \"Moderate\" if row['CV_Std'] < 0.1 else \"High\"\n",
    "    print(f\"- {row['Model']}: {sensitivity}\")\n",
    "\n",
    "print(\"\\nOverfitting Risk:\")\n",
    "for _, row in overfit_rank.iterrows():\n",
    "    risk = \"Low\" if row['Overfitting_Gap'] < 0.05 else \"Moderate\" if row['Overfitting_Gap'] < 0.1 else \"High\"\n",
    "    print(f\"- {row['Model']}: {risk}\")"
   ]
  },
  {
   "cell_type": "code",
   "execution_count": null,
   "metadata": {},
   "outputs": [],
   "source": [
    "import time\n",
    "import numpy as np\n",
    "import pandas as pd\n",
    "from sklearn.model_selection import cross_val_score, train_test_split\n",
    "from sklearn.metrics import r2_score\n",
    "import matplotlib.pyplot as plt\n",
    "\n",
    "# Fixed evaluation function\n",
    "def evaluate_model_performance(model, X_train, X_test, y_train, y_test, model_name=\"Model\"):\n",
    "    \"\"\"\n",
    "    Evaluate model performance including training time, R2 scores and overfitting gap\n",
    "    \"\"\"\n",
    "    print(f\"\\n=== {model_name} Performance Evaluation ===\\n\")\n",
    "    \n",
    "    # Ensure correct data format\n",
    "    X_train = np.array(X_train) if not isinstance(X_train, np.ndarray) else X_train\n",
    "    X_test = np.array(X_test) if not isinstance(X_test, np.ndarray) else X_test\n",
    "    y_train = np.array(y_train) if not isinstance(y_train, np.ndarray) else y_train\n",
    "    y_test = np.array(y_test) if not isinstance(y_test, np.ndarray) else y_test\n",
    "    \n",
    "    print(f\"Training set shape: X_train{X_train.shape}, y_train{y_train.shape}\")\n",
    "    print(f\"Test set shape: X_test{X_test.shape}, y_test{y_test.shape}\")\n",
    "    \n",
    "    # Training time\n",
    "    start_time = time.time()\n",
    "    model.fit(X_train, y_train)\n",
    "    training_time = time.time() - start_time\n",
    "    print(f\"Training Time: {training_time:.2f} seconds\")\n",
    "    \n",
    "    # Training and test predictions\n",
    "    y_train_pred = model.predict(X_train)\n",
    "    y_test_pred = model.predict(X_test)\n",
    "    \n",
    "    print(f\"Prediction shapes: y_train_pred{y_train_pred.shape}, y_test_pred{y_test_pred.shape}\")\n",
    "    \n",
    "    # R2 scores\n",
    "    train_r2 = r2_score(y_train, y_train_pred)\n",
    "    test_r2 = r2_score(y_test, y_test_pred)\n",
    "    print(f\"Training R2: {train_r2:.5f}\")\n",
    "    print(f\"Test R2: {test_r2:.5f}\")\n",
    "    \n",
    "    # Overfitting gap\n",
    "    overfitting_gap = train_r2 - test_r2\n",
    "    print(f\"Overfitting Gap (Train R2 - Test R2): {overfitting_gap:.5f}\")\n",
    "    \n",
    "    # RMSPE\n",
    "    train_rmspe = rmspe(y_train, y_train_pred)\n",
    "    test_rmspe = rmspe(y_test, y_test_pred)\n",
    "    print(f\"Training RMSPE: {train_rmspe:.5f}\")\n",
    "    print(f\"Test RMSPE: {test_rmspe:.5f}\")\n",
    "    \n",
    "    return {\n",
    "        'training_time': training_time,\n",
    "        'train_r2': train_r2,\n",
    "        'test_r2': test_r2,\n",
    "        'overfitting_gap': overfitting_gap,\n",
    "        'train_rmspe': train_rmspe,\n",
    "        'test_rmspe': test_rmspe\n",
    "    }\n",
    "\n",
    "# Cross-validation evaluation function\n",
    "def evaluate_cross_validation(model, X, y, cv_folds=5, model_name=\"Model\"):\n",
    "    \"\"\"\n",
    "    Evaluate model performance using cross-validation\n",
    "    \"\"\"\n",
    "    print(f\"\\n=== {model_name} Cross-Validation Evaluation ===\\n\")\n",
    "    \n",
    "    # Ensure correct data format\n",
    "    X = np.array(X) if not isinstance(X, np.ndarray) else X\n",
    "    y = np.array(y) if not isinstance(y, np.ndarray) else y\n",
    "    \n",
    "    print(f\"Data shape: X{X.shape}, y{y.shape}\")\n",
    "    \n",
    "    start_time = time.time()\n",
    "    \n",
    "    # Cross-validation with R2 scoring\n",
    "    try:\n",
    "        cv_scores = cross_val_score(model, X, y, cv=cv_folds, scoring='r2', n_jobs=-1)\n",
    "    except Exception as e:\n",
    "        print(f\"Cross-validation error: {e}\")\n",
    "        print(\"Using single thread for cross-validation...\")\n",
    "        cv_scores = cross_val_score(model, X, y, cv=cv_folds, scoring='r2', n_jobs=1)\n",
    "    \n",
    "    cv_time = time.time() - start_time\n",
    "    \n",
    "    print(f\"Cross-validation time: {cv_time:.2f} seconds\")\n",
    "    print(f\"Cross-validation R2 scores:\")\n",
    "    print(f\"  Fold scores: {[f'{score:.5f}' for score in cv_scores]}\")\n",
    "    print(f\"  Mean R2: {cv_scores.mean():.5f} (+/- {cv_scores.std() * 2:.5f})\")\n",
    "    print(f\"  Standard deviation: {cv_scores.std():.5f}\")\n",
    "    \n",
    "    return {\n",
    "        'cv_mean_r2': cv_scores.mean(),\n",
    "        'cv_std_r2': cv_scores.std(),\n",
    "        'cv_scores': cv_scores,\n",
    "        'cv_time': cv_time\n",
    "    }\n",
    "\n",
    "# Prepare data for training (ensure correct format)\n",
    "def prepare_data_for_training(train_data_set):\n",
    "    \"\"\"\n",
    "    Prepare training data ensuring correct format\n",
    "    \"\"\"\n",
    "    # Select feature columns\n",
    "    feature_columns = ['log_return1', 'bas', 'log_return2', 'log_return_bid_price1', \n",
    "                      'log_return_ask_price1', 'log_return_bid_size1', 'log_return_ask_size1',\n",
    "                      'log_ask_1_div_bid_1', 'log_ask_1_div_bid_1_size']\n",
    "    \n",
    "    X = train_data_set[feature_columns].values\n",
    "    y = train_data_set['target'].values\n",
    "    \n",
    "    print(f\"Data preparation completed: X{X.shape}, y{y.shape}\")\n",
    "    print(f\"Feature columns: {feature_columns}\")\n",
    "    \n",
    "    return X, y, feature_columns\n",
    "\n",
    "# Prepare data\n",
    "print(\"Preparing data...\")\n",
    "X, y, feature_columns = prepare_data_for_training(train_data_set)\n",
    "\n",
    "# Split data into training and test sets\n",
    "X_train, X_test, y_train, y_test = train_test_split(\n",
    "    X, y, test_size=0.2, random_state=Config.seed, shuffle=True  # Changed to shuffle=True\n",
    ")\n",
    "\n",
    "print(f\"Final data shapes:\")\n",
    "print(f\"X_train: {X_train.shape}, y_train: {y_train.shape}\")\n",
    "print(f\"X_test: {X_test.shape}, y_test: {y_test.shape}\")\n",
    "\n",
    "# Baseline XGBoost model with default parameters\n",
    "print(\"\\n\" + \"=\"*50)\n",
    "print(\"Evaluating Baseline XGBoost Model Performance...\")\n",
    "print(\"=\"*50)\n",
    "\n",
    "base_xgb = XGBRegressor(\n",
    "    random_state=Config.seed,\n",
    "    tree_method='gpu_hist',\n",
    "    n_estimators=500,  # Reduced number of trees for faster training\n",
    "    learning_rate=0.1,\n",
    "    max_depth=6,\n",
    "    verbosity=0\n",
    ")\n",
    "\n",
    "# Evaluate baseline model\n",
    "base_performance = evaluate_model_performance(\n",
    "    base_xgb, X_train, X_test, y_train, y_test, \"Baseline XGBoost\"\n",
    ")\n",
    "\n",
    "# Cross-validation for baseline model (using training set)\n",
    "base_cv = evaluate_cross_validation(\n",
    "    XGBRegressor(\n",
    "        random_state=Config.seed,\n",
    "        tree_method='gpu_hist',\n",
    "        n_estimators=300,  # Use fewer trees for cross-validation\n",
    "        learning_rate=0.1,\n",
    "        max_depth=6,\n",
    "        verbosity=0\n",
    "    ), \n",
    "    X_train, y_train, cv_folds=3, model_name=\"Baseline XGBoost\"  # Reduced folds for speed\n",
    ")\n",
    "\n",
    "# LightGBM model evaluation\n",
    "print(\"\\n\" + \"=\"*50)\n",
    "print(\"Evaluating LightGBM Model Performance...\")\n",
    "print(\"=\"*50)\n",
    "\n",
    "lgb_model = LGBMRegressor(\n",
    "    random_state=Config.seed,\n",
    "    n_estimators=500,\n",
    "    learning_rate=0.1,\n",
    "    max_depth=6,\n",
    "    device='gpu',\n",
    "    verbose=-1\n",
    ")\n",
    "\n",
    "# Evaluate LightGBM model\n",
    "lgb_performance = evaluate_model_performance(\n",
    "    lgb_model, X_train, X_test, y_train, y_test, \"LightGBM\"\n",
    ")\n",
    "\n",
    "# LightGBM cross-validation\n",
    "lgb_cv = evaluate_cross_validation(\n",
    "    LGBMRegressor(\n",
    "        random_state=Config.seed,\n",
    "        n_estimators=300,\n",
    "        learning_rate=0.1,\n",
    "        max_depth=6,\n",
    "        device='gpu',\n",
    "        verbose=-1\n",
    "    ),\n",
    "    X_train, y_train, cv_folds=3, model_name=\"LightGBM\"\n",
    ")\n",
    "\n",
    "# If tuned parameters exist, evaluate tuned model\n",
    "try:\n",
    "    if 'best_xgbparams' in locals() or 'best_xgbparams' in globals():\n",
    "        print(\"\\n\" + \"=\"*50)\n",
    "        print(\"Evaluating Tuned XGBoost Model Performance...\")\n",
    "        print(\"=\"*50)\n",
    "        \n",
    "        # Use previously found best parameters\n",
    "        tuned_params = best_xgbparams.copy()\n",
    "        if 'n_estimators' in tuned_params and tuned_params['n_estimators'] > 1000:\n",
    "            tuned_params['n_estimators'] = 800  # Limit number of trees\n",
    "        \n",
    "        tuned_xgb = XGBRegressor(**tuned_params, tree_method='gpu_hist', verbosity=0)\n",
    "        \n",
    "        # Evaluate tuned model\n",
    "        tuned_performance = evaluate_model_performance(\n",
    "            tuned_xgb, X_train, X_test, y_train, y_test, \"Tuned XGBoost\"\n",
    "        )\n",
    "        \n",
    "        # Cross-validation for tuned model\n",
    "        tuned_cv_params = tuned_params.copy()\n",
    "        if 'n_estimators' in tuned_cv_params:\n",
    "            tuned_cv_params['n_estimators'] = min(400, tuned_cv_params['n_estimators'])\n",
    "            \n",
    "        tuned_cv = evaluate_cross_validation(\n",
    "            XGBRegressor(**tuned_cv_params, tree_method='gpu_hist', verbosity=0),\n",
    "            X_train, y_train, cv_folds=3, model_name=\"Tuned XGBoost\"\n",
    "        )\n",
    "except Exception as e:\n",
    "    print(f\"Tuned model evaluation failed: {e}\")\n",
    "\n",
    "# Create performance summary table\n",
    "performance_summary = []\n",
    "\n",
    "# Add baseline XGBoost results\n",
    "performance_summary.append({\n",
    "    'Model': 'Baseline XGBoost',\n",
    "    'Training Time (s)': base_performance['training_time'],\n",
    "    'Train R2': base_performance['train_r2'],\n",
    "    'Test R2': base_performance['test_r2'],\n",
    "    'Overfitting Gap': base_performance['overfitting_gap'],\n",
    "    'CV Mean R2': base_cv['cv_mean_r2'],\n",
    "    'CV Std R2': base_cv['cv_std_r2'],\n",
    "    'Test RMSPE': base_performance['test_rmspe']\n",
    "})\n",
    "\n",
    "# Add LightGBM results\n",
    "performance_summary.append({\n",
    "    'Model': 'LightGBM',\n",
    "    'Training Time (s)': lgb_performance['training_time'],\n",
    "    'Train R2': lgb_performance['train_r2'],\n",
    "    'Test R2': lgb_performance['test_r2'],\n",
    "    'Overfitting Gap': lgb_performance['overfitting_gap'],\n",
    "    'CV Mean R2': lgb_cv['cv_mean_r2'],\n",
    "    'CV Std R2': lgb_cv['cv_std_r2'],\n",
    "    'Test RMSPE': lgb_performance['test_rmspe']\n",
    "})\n",
    "\n",
    "# Add tuned model results if available\n",
    "if 'tuned_performance' in locals():\n",
    "    performance_summary.append({\n",
    "        'Model': 'Tuned XGBoost',\n",
    "        'Training Time (s)': tuned_performance['training_time'],\n",
    "        'Train R2': tuned_performance['train_r2'],\n",
    "        'Test R2': tuned_performance['test_r2'],\n",
    "        'Overfitting Gap': tuned_performance['overfitting_gap'],\n",
    "        'CV Mean R2': tuned_cv['cv_mean_r2'],\n",
    "        'CV Std R2': tuned_cv['cv_std_r2'],\n",
    "        'Test RMSPE': tuned_performance['test_rmspe']\n",
    "    })\n",
    "\n",
    "# Display performance summary\n",
    "summary_df = pd.DataFrame(performance_summary)\n",
    "print(\"\\n\" + \"=\"*60)\n",
    "print(\"Model Performance Summary\")\n",
    "print(\"=\"*60)\n",
    "print(summary_df.round(5))\n",
    "\n",
    "# Visualization comparison\n",
    "try:\n",
    "    fig, axes = plt.subplots(2, 2, figsize=(15, 10))\n",
    "    \n",
    "    models = summary_df['Model'].values\n",
    "    test_r2 = summary_df['Test R2'].values\n",
    "    cv_mean_r2 = summary_df['CV Mean R2'].values\n",
    "    \n",
    "    x = range(len(models))\n",
    "    width = 0.35\n",
    "    \n",
    "    # R2 score comparison\n",
    "    axes[0, 0].bar(x, test_r2, width, label='Test R2', alpha=0.7, color='skyblue')\n",
    "    axes[0, 0].bar([i + width for i in x], cv_mean_r2, width, label='CV Mean R2', alpha=0.7, color='lightcoral')\n",
    "    axes[0, 0].set_xlabel('Models')\n",
    "    axes[0, 0].set_ylabel('R2 Score')\n",
    "    axes[0, 0].set_title('R2 Score Comparison')\n",
    "    axes[0, 0].set_xticks([i + width/2 for i in x])\n",
    "    axes[0, 0].set_xticklabels(models, rotation=45)\n",
    "    axes[0, 0].legend()\n",
    "    axes[0, 0].grid(True, alpha=0.3)\n",
    "    \n",
    "    # Overfitting gap\n",
    "    axes[0, 1].bar(models, summary_df['Overfitting Gap'], alpha=0.7, color='orange')\n",
    "    axes[0, 1].set_xlabel('Models')\n",
    "    axes[0, 1].set_ylabel('Overfitting Gap')\n",
    "    axes[0, 1].set_title('Overfitting Gap (Train R2 - Test R2)')\n",
    "    axes[0, 1].tick_params(axis='x', rotation=45)\n",
    "    axes[0, 1].grid(True, alpha=0.3)\n",
    "    \n",
    "    # Training time\n",
    "    axes[1, 0].bar(models, summary_df['Training Time (s)'], alpha=0.7, color='green')\n",
    "    axes[1, 0].set_xlabel('Models')\n",
    "    axes[1, 0].set_ylabel('Training Time (seconds)')\n",
    "    axes[1, 0].set_title('Training Time Comparison')\n",
    "    axes[1, 0].tick_params(axis='x', rotation=45)\n",
    "    axes[1, 0].grid(True, alpha=0.3)\n",
    "    \n",
    "    # RMSPE comparison\n",
    "    axes[1, 1].bar(models, summary_df['Test RMSPE'], alpha=0.7, color='red')\n",
    "    axes[1, 1].set_xlabel('Models')\n",
    "    axes[1, 1].set_ylabel('RMSPE')\n",
    "    axes[1, 1].set_title('Test RMSPE Comparison')\n",
    "    axes[1, 1].tick_params(axis='x', rotation=45)\n",
    "    axes[1, 1].grid(True, alpha=0.3)\n",
    "    \n",
    "    plt.tight_layout()\n",
    "    plt.show()\n",
    "    \n",
    "except Exception as e:\n",
    "    print(f\"Visualization creation failed: {e}\")\n",
    "\n",
    "print(\"\\n\" + \"=\"*60)\n",
    "print(\"Evaluation Completed!\")\n",
    "print(\"=\"*60)\n",
    "\n",
    "# Output key conclusions\n",
    "best_model_idx = summary_df['Test R2'].idxmax()\n",
    "best_model = summary_df.loc[best_model_idx, 'Model']\n",
    "best_test_r2 = summary_df.loc[best_model_idx, 'Test R2']\n",
    "best_rmspe = summary_df.loc[best_model_idx, 'Test RMSPE']\n",
    "\n",
    "print(f\"\\nKey Conclusions:\")\n",
    "print(f\"- Best Model: {best_model} (Test R2: {best_test_r2:.5f})\")\n",
    "print(f\"- Best Model RMSPE: {best_rmspe:.5f}\")\n",
    "print(f\"- Least Overfitting Model: {summary_df.loc[summary_df['Overfitting Gap'].idxmin(), 'Model']}\")\n",
    "print(f\"- Fastest Training Model: {summary_df.loc[summary_df['Training Time (s)'].idxmin(), 'Model']}\")\n",
    "\n",
    "# Additional detailed analysis\n",
    "print(f\"\\nDetailed Analysis:\")\n",
    "print(f\"- Cross-validation consistency:\")\n",
    "for model in summary_df['Model']:\n",
    "    model_data = summary_df[summary_df['Model'] == model].iloc[0]\n",
    "    cv_std = model_data['CV Std R2']\n",
    "    consistency = \"High\" if cv_std < 0.05 else \"Medium\" if cv_std < 0.1 else \"Low\"\n",
    "    print(f\"  {model}: CV Std = {cv_std:.5f} ({consistency} consistency)\")\n",
    "\n",
    "print(f\"- Overfitting analysis:\")\n",
    "for model in summary_df['Model']:\n",
    "    model_data = summary_df[summary_df['Model'] == model].iloc[0]\n",
    "    gap = model_data['Overfitting Gap']\n",
    "    severity = \"Low\" if gap < 0.05 else \"Medium\" if gap < 0.1 else \"High\"\n",
    "    print(f\"  {model}: Overfitting gap = {gap:.5f} ({severity} overfitting)\")"
   ]
  }
 ],
 "metadata": {
  "kaggle": {
   "accelerator": "gpu",
   "dataSources": [
    {
     "databundleVersionId": 2344753,
     "sourceId": 27233,
     "sourceType": "competition"
    }
   ],
   "dockerImageVersionId": 30097,
   "isGpuEnabled": true,
   "isInternetEnabled": false,
   "language": "python",
   "sourceType": "notebook"
  },
  "kernelspec": {
   "display_name": "base",
   "language": "python",
   "name": "python3"
  },
  "language_info": {
   "codemirror_mode": {
    "name": "ipython",
    "version": 3
   },
   "file_extension": ".py",
   "mimetype": "text/x-python",
   "name": "python",
   "nbconvert_exporter": "python",
   "pygments_lexer": "ipython3",
   "version": "3.12.7"
  }
 },
 "nbformat": 4,
 "nbformat_minor": 4
}
